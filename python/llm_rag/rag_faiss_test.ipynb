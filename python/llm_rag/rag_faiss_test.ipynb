{
 "cells": [
  {
   "cell_type": "code",
   "execution_count": 2,
   "metadata": {},
   "outputs": [],
   "source": [
    "import tiktoken\n",
    "from langchain.embeddings.sentence_transformer import SentenceTransformerEmbeddings\n",
    "from langchain.text_splitter import RecursiveCharacterTextSplitter\n",
    "from langchain.vectorstores import Chroma\n",
    "from langchain.document_loaders import PyPDFLoader\n",
    "from langchain.document_loaders import TextLoader\n",
    "from langchain.embeddings import HuggingFaceEmbeddings\n",
    "from langchain.vectorstores import FAISS\n"
   ]
  },
  {
   "cell_type": "code",
   "execution_count": 3,
   "metadata": {},
   "outputs": [],
   "source": [
    "tokenizer = tiktoken.get_encoding(\"cl100k_base\")\n",
    "\n",
    "def tiktoken_len(text):\n",
    "    tokens = tokenizer.encode(text)\n",
    "    return len(tokens)"
   ]
  },
  {
   "cell_type": "code",
   "execution_count": null,
   "metadata": {},
   "outputs": [],
   "source": []
  },
  {
   "cell_type": "code",
   "execution_count": 4,
   "metadata": {},
   "outputs": [
    {
     "name": "stderr",
     "output_type": "stream",
     "text": [
      "/opt/homebrew/lib/python3.11/site-packages/torch/_utils.py:776: UserWarning: TypedStorage is deprecated. It will be removed in the future and UntypedStorage will be the only storage class. This should only matter to you if you are using storages directly.  To access UntypedStorage directly, use tensor.untyped_storage() instead of tensor.storage()\n",
      "  return self.fget.__get__(instance, owner)()\n"
     ]
    }
   ],
   "source": [
    "loader = PyPDFLoader(\"/Users/jaehyeongpark/Documents/kb_report.pdf\")\n",
    "pages = loader.load_and_split()\n",
    "\n",
    "text_splitter = RecursiveCharacterTextSplitter(chunk_size=500, chunk_overlap=50, length_function = tiktoken_len)\n",
    "docs = text_splitter.split_documents(pages)\n",
    "\n",
    "\n",
    "model_name = \"jhgan/ko-sbert-nli\"\n",
    "model_kwargs = {'device': 'cpu'}\n",
    "encode_kwargs = {'normalize_embeddings': True}\n",
    "ko = HuggingFaceEmbeddings(\n",
    "    model_name=model_name,\n",
    "    model_kwargs=model_kwargs,\n",
    "    encode_kwargs=encode_kwargs\n",
    ")"
   ]
  },
  {
   "cell_type": "code",
   "execution_count": 5,
   "metadata": {},
   "outputs": [],
   "source": [
    "db = FAISS.from_documents(docs, ko)"
   ]
  },
  {
   "cell_type": "code",
   "execution_count": 6,
   "metadata": {},
   "outputs": [
    {
     "name": "stdout",
     "output_type": "stream",
     "text": [
      " 서울과 수도권  아파트 를 중심으로  전세가격  상승세가  지속되고  있으며 , 수도권  전세가격전망지수는  \n",
      "지난해  11월 이후 2개월 만에 다시 ‘상승 전망’으로 전환 \n",
      "∙ 아파트  선호 현상과 올해 아파트  입주물량  감소 등의 영향으로  당분간  수도권  아파트  전세가\n",
      "격 상승세가  지속될  전망 \n",
      " \n",
      "그림 7| 유형별  주택 전세가격지수  변동률  추이  그림 8| 지역별  주택 전세가격전망지수  추이 \n",
      "  \n",
      " \n",
      "자료: KB국민은행   자료: KB국민은행\n"
     ]
    }
   ],
   "source": [
    "query = \"주택 시장 동향은 어떻게 되어있나요?\"\n",
    "docs = db.similarity_search(query)\n",
    "print(docs[0].page_content)"
   ]
  },
  {
   "cell_type": "code",
   "execution_count": 7,
   "metadata": {},
   "outputs": [
    {
     "data": {
      "text/plain": [
       "[(Document(page_content='\\uf06d 서울과 수도권  아파트 를 중심으로  전세가격  상승세가  지속되고  있으며 , 수도권  전세가격전망지수는  \\n지난해  11월 이후 2개월 만에 다시 ‘상승 전망’으로 전환 \\n∙ 아파트  선호 현상과 올해 아파트  입주물량  감소 등의 영향으로  당분간  수도권  아파트  전세가\\n격 상승세가  지속될  전망 \\n \\n그림 7| 유형별  주택 전세가격지수  변동률  추이  그림 8| 지역별  주택 전세가격전망지수  추이 \\n  \\n \\n자료: KB국민은행   자료: KB국민은행', metadata={'source': '/Users/jaehyeongpark/Documents/kb_report.pdf', 'page': 4}),\n",
       "  0.75258374),\n",
       " (Document(page_content='\\uf06d 1월 주택 매매가격은  전월 대비 하락폭이  확대되었으나  지난해  월평균  하락폭  대비 3분의 1 \\n수준이며 , 하락폭이  가장 큰 대구도  지난해  월평균  하락폭  대비 절반 수준에 그침 \\n\\uf06d 주택 매매가격전망지수는  여전히  ‘상승 전망’보다 ‘하락 전망’ 비중이  크지만  연초 이후 정부의  규제 \\n완화와  4월 총선, 금리 인하에 대한 기대감  등으로  하락폭이  확대될  가능성은  적음 \\n \\n그림 3| 지역별  주택 매매가격지수  변동률   그림 4| 지역별  주택 매매가격전망지수  추이 \\n  \\n \\n자료: KB국민은행   자료: KB국민은행', metadata={'source': '/Users/jaehyeongpark/Documents/kb_report.pdf', 'page': 3}),\n",
       "  0.75613165),\n",
       " (Document(page_content='5 \\n[주택 전세] 수도권  아파트를 중심으로  전세가격  상승세가 지속될 전망 \\n \\n■ 주택 전세가격은 지난해  9월 이후 5개월 연속 상승세를 이어감  \\n\\uf06d 1월 전국 주택 전세가격 은 전월과  동일하게  0.09% 상승했으나  시장 분위기는  지역별 로 차이를 보임 \\n∙ 수도권 의 경우 서울, 경기 지역은  상승세 를 보이는  반면 인천은  2개월 연속 하락세  \\n∙ 비수도권 은 대전을  제외한  전국 대부분  지역에서  하락세를  보이며 , 대구는  매매시장  위축과  함께 전\\n세가격도  하락폭을  확대 \\n \\n그림 5| 지역별  주택 전세가격지수  변동률  추이  그림 6| 지역별  주택 전세가격지수  변동률  \\n  \\n \\n자료: KB국민은행   자료: KB국민은행  \\n \\n■ 아파트에 대한 선호도가 여전히  높으며 , 수도권을 중심으로  다시 ‘상승 전망’ 비중 확대', metadata={'source': '/Users/jaehyeongpark/Documents/kb_report.pdf', 'page': 4}),\n",
       "  0.7641795),\n",
       " (Document(page_content='공급시장이  크게 위축됨 \\n∙ 다만, 아직까지  매매가격  하락폭이  지난해  대비 낮은 수준이며 , 정부의  규제 완화와  4월 총선 등의 영향\\n으로 하락 전망 비중이  줄어들면서  하락폭이  확대될  가능성 은 적음 주택 시장 개요', metadata={'source': '/Users/jaehyeongpark/Documents/kb_report.pdf', 'page': 2}),\n",
       "  0.7954688)]"
      ]
     },
     "execution_count": 7,
     "metadata": {},
     "output_type": "execute_result"
    }
   ],
   "source": [
    "docs_and_scores = db.similarity_search_with_score(query)\n",
    "docs_and_scores"
   ]
  },
  {
   "cell_type": "code",
   "execution_count": 8,
   "metadata": {},
   "outputs": [],
   "source": [
    "db.save_local(\"faiss_index\")"
   ]
  },
  {
   "cell_type": "code",
   "execution_count": 9,
   "metadata": {},
   "outputs": [
    {
     "name": "stdout",
     "output_type": "stream",
     "text": [
      "질문 : 주택담보대출 동향은? \n",
      "\n",
      "1번쨰 유사 문서 유사도 \n",
      "0.59\n",
      "----------------------------------------------------------------------------------------------------\n",
      "9 \n",
      "[주택 금융] 주택담보대출  증가세가 소폭 둔화 \n",
      " \n",
      "■ 2023년 12월 은행권  주택담보대출 (전세자금대출  포함)은 전월 대비 5.2조 원 증가 \n",
      " 8월 전월 대비 7조 원 증가하며 최고치를  기록한  후 전반적으로  증가세 가 둔화되고  있으나 , 여전히  \n",
      "2022 년 월평균  순증액 (1.7조 원)을 크게 상회 \n",
      "∙ 전세자금대출  잔액은  2023 년 6월 이후 큰 변화 없이 보합세를  유지 \n",
      " 거래 침체와  정부의  가계대출  관리 기조 등을 감안할  때 주택담보대출  증가세가  한풀 꺾일 것으로  전망 \n",
      " \n",
      "그림 20| 은행권  주택담보대출  규모 추이  그림 21| 은행권  전세자금대출  규모 추이 \n",
      "  \n",
      " \n",
      "주: 전세자금대출  등 주택 관련 대출 포함 \n",
      "자료: 한국은행   주: 월간 순증액은  한국은행  월간 수보 기준, 기금재원대출  제외 \n",
      "자료: 한국은행\n",
      "\n",
      "\n",
      "{'source': '/Users/jaehyeongpark/Documents/kb_report.pdf', 'page': 8}\n",
      "----------------------------------------------------------------------------------------------------\n",
      "2번쨰 유사 문서 유사도 \n",
      "0.53\n",
      "----------------------------------------------------------------------------------------------------\n",
      "자료: 한국은행  \n",
      " \n",
      "■ 주택담보대출 (신규 취급액  기준) 금리는 2개월 연속 하락세를 이어감  \n",
      " 2023 년 12월 신규 취급액  기준 주택담보대출  금리는  4.16% 로 전월 대비 0.32%p 하락 \n",
      "∙ 코픽스  금리(신잔액 )는 전월 대비 0.06%p 하락하며  2021 년 4월 이후 32개월 만에 하락 전환 \n",
      "∙ 11월 은행권  가계대출  연체율은  0.39% 로 전월 대비 소폭 상승한 데 비해 주택담보대출  연체\n",
      "율은 0.25% 를 유지 \n",
      " \n",
      "그림 22| 은행권  주택담보대출  금리 추이  그림 23| 은행권  대출 연체율  추이 \n",
      "  \n",
      " \n",
      "자료: 한국은행 , 은행연합회   자료: 금융감독원\n",
      "\n",
      "\n",
      "{'source': '/Users/jaehyeongpark/Documents/kb_report.pdf', 'page': 8}\n",
      "----------------------------------------------------------------------------------------------------\n",
      "3번쨰 유사 문서 유사도 \n",
      "0.41\n",
      "----------------------------------------------------------------------------------------------------\n",
      "6 \n",
      "[주택 거래] 주택 매매 거래는 위축, 전월세  거래량은  과거 평균 대비 증가 \n",
      " \n",
      "■ 2023년 전국 주택 매매 거래량은  전년 대비 증가했으나 , 과거 평균 대비 여전히  크게 감소 \n",
      " 12월 전국 주택 매매 거래량은  3.8만 호로 전월 대비 5% 감소하면서  최근의  거래시장  위축을  반영 \n",
      "∙ 전국 주택 매매 거래량은  8월 이후 4개월 연속 전월 대비 감소세 \n",
      " 2023 년 전국 주택 매매 거래량은  전년 대비 9% 증가했으나  최근 10년 평균 대비 37% 감소. 고금리, \n",
      "부동산  프로젝트파이낸싱 (PF) 부실 리스크  등 공급시장  불안 요인으로  인해 당분간  거래 위축세가 \n",
      "지속될  것으로  전망 \n",
      "그림 9| 전국 주택 매매 거래량  추이  그림 10| 지역별  주택 매매 거래량  증가율  \n",
      "  \n",
      " \n",
      "자료: 한국부동산원   자료: 한국부동산원\n",
      "\n",
      "\n",
      "{'source': '/Users/jaehyeongpark/Documents/kb_report.pdf', 'page': 5}\n",
      "----------------------------------------------------------------------------------------------------\n"
     ]
    }
   ],
   "source": [
    "new_db = FAISS.load_local(\"faiss_index\", ko)\n",
    "\n",
    "query = \"주택담보대출 동향은?\"\n",
    "docs = new_db.similarity_search_with_relevance_scores(query, k=3, fetch_k=10, lambda_mult=0.3)\n",
    "\n",
    "\n",
    "print(\"질문 : {} \\n\".format(query))\n",
    "for i in range(len(docs)):\n",
    "    print(\"{0}번쨰 유사 문서 유사도 \\n{1}\" .format(i+1, round(docs[i][1],2)))\n",
    "    print(\"-\"*100)\n",
    "    print(docs[i][0].page_content)\n",
    "    print(\"\\n\")\n",
    "    print(docs[i][0].metadata)\n",
    "    print(\"-\"*100)"
   ]
  },
  {
   "cell_type": "code",
   "execution_count": null,
   "metadata": {},
   "outputs": [],
   "source": []
  },
  {
   "cell_type": "code",
   "execution_count": null,
   "metadata": {},
   "outputs": [],
   "source": []
  }
 ],
 "metadata": {
  "kernelspec": {
   "display_name": "Python 3",
   "language": "python",
   "name": "python3"
  },
  "language_info": {
   "codemirror_mode": {
    "name": "ipython",
    "version": 3
   },
   "file_extension": ".py",
   "mimetype": "text/x-python",
   "name": "python",
   "nbconvert_exporter": "python",
   "pygments_lexer": "ipython3",
   "version": "3.11.6"
  }
 },
 "nbformat": 4,
 "nbformat_minor": 2
}
