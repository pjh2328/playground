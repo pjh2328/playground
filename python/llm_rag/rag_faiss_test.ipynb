{
 "cells": [
  {
   "cell_type": "code",
   "execution_count": 7,
   "metadata": {},
   "outputs": [],
   "source": [
    "import tiktoken\n",
    "from langchain.embeddings.sentence_transformer import SentenceTransformerEmbeddings\n",
    "from langchain.text_splitter import RecursiveCharacterTextSplitter\n",
    "from langchain.vectorstores import Chroma\n",
    "from langchain.document_loaders import PyPDFLoader\n",
    "from langchain.document_loaders import TextLoader\n",
    "from langchain.embeddings import HuggingFaceEmbeddings\n",
    "from langchain.vectorstores import FAISS\n"
   ]
  },
  {
   "cell_type": "code",
   "execution_count": 8,
   "metadata": {},
   "outputs": [],
   "source": [
    "tokenizer = tiktoken.get_encoding(\"cl100k_base\")\n",
    "\n",
    "def tiktoken_len(text):\n",
    "    tokens = tokenizer.encode(text)\n",
    "    return len(tokens)"
   ]
  },
  {
   "cell_type": "code",
   "execution_count": null,
   "metadata": {},
   "outputs": [],
   "source": []
  },
  {
   "cell_type": "code",
   "execution_count": 11,
   "metadata": {},
   "outputs": [],
   "source": [
    "loader = PyPDFLoader(\"/Users/jaehyeongpark/Documents/kb_report.pdf\")\n",
    "pages = loader.load_and_split()\n",
    "\n",
    "text_splitter = RecursiveCharacterTextSplitter(chunk_size=500, chunk_overlap=50, length_function = tiktoken_len)\n",
    "docs = text_splitter.split_documents(pages)\n",
    "\n",
    "\n",
    "model_name = \"jhgan/ko-sbert-nli\"\n",
    "model_kwargs = {'device': 'cpu'}\n",
    "encode_kwargs = {'normalize_embeddings': True}\n",
    "ko = HuggingFaceEmbeddings(\n",
    "    model_name=model_name,\n",
    "    model_kwargs=model_kwargs,\n",
    "    encode_kwargs=encode_kwargs\n",
    ")"
   ]
  },
  {
   "cell_type": "code",
   "execution_count": 12,
   "metadata": {},
   "outputs": [],
   "source": [
    "db = FAISS.from_documents(docs, ko)"
   ]
  },
  {
   "cell_type": "code",
   "execution_count": 13,
   "metadata": {},
   "outputs": [
    {
     "name": "stdout",
     "output_type": "stream",
     "text": [
      " 서울과 수도권  아파트 를 중심으로  전세가격  상승세가  지속되고  있으며 , 수도권  전세가격전망지수는  \n",
      "지난해  11월 이후 2개월 만에 다시 ‘상승 전망’으로 전환 \n",
      "∙ 아파트  선호 현상과 올해 아파트  입주물량  감소 등의 영향으로  당분간  수도권  아파트  전세가\n",
      "격 상승세가  지속될  전망 \n",
      " \n",
      "그림 7| 유형별  주택 전세가격지수  변동률  추이  그림 8| 지역별  주택 전세가격전망지수  추이 \n",
      "  \n",
      " \n",
      "자료: KB국민은행   자료: KB국민은행\n"
     ]
    }
   ],
   "source": [
    "query = \"주택 시장 동향은 어떻게 되어있나요?\"\n",
    "docs = db.similarity_search(query)\n",
    "print(docs[0].page_content)"
   ]
  },
  {
   "cell_type": "code",
   "execution_count": 15,
   "metadata": {},
   "outputs": [
    {
     "data": {
      "text/plain": [
       "[(Document(page_content='\\uf06d 서울과 수도권  아파트 를 중심으로  전세가격  상승세가  지속되고  있으며 , 수도권  전세가격전망지수는  \\n지난해  11월 이후 2개월 만에 다시 ‘상승 전망’으로 전환 \\n∙ 아파트  선호 현상과 올해 아파트  입주물량  감소 등의 영향으로  당분간  수도권  아파트  전세가\\n격 상승세가  지속될  전망 \\n \\n그림 7| 유형별  주택 전세가격지수  변동률  추이  그림 8| 지역별  주택 전세가격전망지수  추이 \\n  \\n \\n자료: KB국민은행   자료: KB국민은행', metadata={'source': '/Users/jaehyeongpark/Documents/kb_report.pdf', 'page': 4}),\n",
       "  0.75258374),\n",
       " (Document(page_content='\\uf06d 1월 주택 매매가격은  전월 대비 하락폭이  확대되었으나  지난해  월평균  하락폭  대비 3분의 1 \\n수준이며 , 하락폭이  가장 큰 대구도  지난해  월평균  하락폭  대비 절반 수준에 그침 \\n\\uf06d 주택 매매가격전망지수는  여전히  ‘상승 전망’보다 ‘하락 전망’ 비중이  크지만  연초 이후 정부의  규제 \\n완화와  4월 총선, 금리 인하에 대한 기대감  등으로  하락폭이  확대될  가능성은  적음 \\n \\n그림 3| 지역별  주택 매매가격지수  변동률   그림 4| 지역별  주택 매매가격전망지수  추이 \\n  \\n \\n자료: KB국민은행   자료: KB국민은행', metadata={'source': '/Users/jaehyeongpark/Documents/kb_report.pdf', 'page': 3}),\n",
       "  0.75613165),\n",
       " (Document(page_content='5 \\n[주택 전세] 수도권  아파트를 중심으로  전세가격  상승세가 지속될 전망 \\n \\n■ 주택 전세가격은 지난해  9월 이후 5개월 연속 상승세를 이어감  \\n\\uf06d 1월 전국 주택 전세가격 은 전월과  동일하게  0.09% 상승했으나  시장 분위기는  지역별 로 차이를 보임 \\n∙ 수도권 의 경우 서울, 경기 지역은  상승세 를 보이는  반면 인천은  2개월 연속 하락세  \\n∙ 비수도권 은 대전을  제외한  전국 대부분  지역에서  하락세를  보이며 , 대구는  매매시장  위축과  함께 전\\n세가격도  하락폭을  확대 \\n \\n그림 5| 지역별  주택 전세가격지수  변동률  추이  그림 6| 지역별  주택 전세가격지수  변동률  \\n  \\n \\n자료: KB국민은행   자료: KB국민은행  \\n \\n■ 아파트에 대한 선호도가 여전히  높으며 , 수도권을 중심으로  다시 ‘상승 전망’ 비중 확대', metadata={'source': '/Users/jaehyeongpark/Documents/kb_report.pdf', 'page': 4}),\n",
       "  0.7641795),\n",
       " (Document(page_content='공급시장이  크게 위축됨 \\n∙ 다만, 아직까지  매매가격  하락폭이  지난해  대비 낮은 수준이며 , 정부의  규제 완화와  4월 총선 등의 영향\\n으로 하락 전망 비중이  줄어들면서  하락폭이  확대될  가능성 은 적음 주택 시장 개요', metadata={'source': '/Users/jaehyeongpark/Documents/kb_report.pdf', 'page': 2}),\n",
       "  0.7954688)]"
      ]
     },
     "execution_count": 15,
     "metadata": {},
     "output_type": "execute_result"
    }
   ],
   "source": [
    "docs_and_scores = db.similarity_search_with_score(query)\n",
    "docs_and_scores"
   ]
  },
  {
   "cell_type": "code",
   "execution_count": 16,
   "metadata": {},
   "outputs": [],
   "source": [
    "db.save_local(\"faiss_index\")"
   ]
  },
  {
   "cell_type": "code",
   "execution_count": 25,
   "metadata": {},
   "outputs": [
    {
     "name": "stdout",
     "output_type": "stream",
     "text": [
      "질문 : 주택 동향은? \n",
      "\n",
      "1번쨰 유사 문서 유사도 \n",
      "0.43\n",
      "----------------------------------------------------------------------------------------------------\n",
      " 서울과 수도권  아파트 를 중심으로  전세가격  상승세가  지속되고  있으며 , 수도권  전세가격전망지수는  \n",
      "지난해  11월 이후 2개월 만에 다시 ‘상승 전망’으로 전환 \n",
      "∙ 아파트  선호 현상과 올해 아파트  입주물량  감소 등의 영향으로  당분간  수도권  아파트  전세가\n",
      "격 상승세가  지속될  전망 \n",
      " \n",
      "그림 7| 유형별  주택 전세가격지수  변동률  추이  그림 8| 지역별  주택 전세가격전망지수  추이 \n",
      "  \n",
      " \n",
      "자료: KB국민은행   자료: KB국민은행\n",
      "\n",
      "\n",
      "{'source': '/Users/jaehyeongpark/Documents/kb_report.pdf', 'page': 4}\n",
      "----------------------------------------------------------------------------------------------------\n",
      "2번쨰 유사 문서 유사도 \n",
      "0.4\n",
      "----------------------------------------------------------------------------------------------------\n",
      "자료: 한국부동산원   자료: 한국부동산원  \n",
      " \n",
      "■ 매매 거래가  위축되면서  전월세  거래량은  최근 5년 평균 대비 21.7%  증가 \n",
      " 1월 매수우 위지수는  소폭 상승했으나 , 역대 최저치를  기록했던  2022 년과 비슷한  수준을 유지 \n",
      " 매매 수요가  위축되면서  전월세  수요가  증가하고  있으며 , 2023 년 전월세  거래량은  272만 건으로  \n",
      "2년 연속 높은 수준을 유지 \n",
      "∙ 2023 년 전월세  거래량은  전년 대비 4.1% 감소했으나  최근 5년 평균 대비 21.7%  증가 \n",
      " \n",
      "그림 11| 지역별  주택 매수우위지수  추이  그림 12| 지역별  전월세  거래량  변동률 (2023 년) \n",
      "  \n",
      " \n",
      "자료: KB국민은행   자료: 국토교통부\n",
      "\n",
      "\n",
      "{'source': '/Users/jaehyeongpark/Documents/kb_report.pdf', 'page': 5}\n",
      "----------------------------------------------------------------------------------------------------\n",
      "3번쨰 유사 문서 유사도 \n",
      "0.38\n",
      "----------------------------------------------------------------------------------------------------\n",
      "5 \n",
      "[주택 전세] 수도권  아파트를 중심으로  전세가격  상승세가 지속될 전망 \n",
      " \n",
      "■ 주택 전세가격은 지난해  9월 이후 5개월 연속 상승세를 이어감  \n",
      " 1월 전국 주택 전세가격 은 전월과  동일하게  0.09% 상승했으나  시장 분위기는  지역별 로 차이를 보임 \n",
      "∙ 수도권 의 경우 서울, 경기 지역은  상승세 를 보이는  반면 인천은  2개월 연속 하락세  \n",
      "∙ 비수도권 은 대전을  제외한  전국 대부분  지역에서  하락세를  보이며 , 대구는  매매시장  위축과  함께 전\n",
      "세가격도  하락폭을  확대 \n",
      " \n",
      "그림 5| 지역별  주택 전세가격지수  변동률  추이  그림 6| 지역별  주택 전세가격지수  변동률  \n",
      "  \n",
      " \n",
      "자료: KB국민은행   자료: KB국민은행  \n",
      " \n",
      "■ 아파트에 대한 선호도가 여전히  높으며 , 수도권을 중심으로  다시 ‘상승 전망’ 비중 확대\n",
      "\n",
      "\n",
      "{'source': '/Users/jaehyeongpark/Documents/kb_report.pdf', 'page': 4}\n",
      "----------------------------------------------------------------------------------------------------\n"
     ]
    }
   ],
   "source": [
    "new_db = FAISS.load_local(\"faiss_index\", ko)\n",
    "\n",
    "query = \"주택 동향은?\"\n",
    "docs = new_db.similarity_search_with_relevance_scores(query, k=3, fetch_k=10, lambda_mult=0.3)\n",
    "\n",
    "\n",
    "print(\"질문 : {} \\n\".format(query))\n",
    "for i in range(len(docs)):\n",
    "    print(\"{0}번쨰 유사 문서 유사도 \\n{1}\" .format(i+1, round(docs[i][1],2)))\n",
    "    print(\"-\"*100)\n",
    "    print(docs[i][0].page_content)\n",
    "    print(\"\\n\")\n",
    "    print(docs[i][0].metadata)\n",
    "    print(\"-\"*100)"
   ]
  },
  {
   "cell_type": "code",
   "execution_count": null,
   "metadata": {},
   "outputs": [],
   "source": []
  }
 ],
 "metadata": {
  "kernelspec": {
   "display_name": "Python 3",
   "language": "python",
   "name": "python3"
  },
  "language_info": {
   "codemirror_mode": {
    "name": "ipython",
    "version": 3
   },
   "file_extension": ".py",
   "mimetype": "text/x-python",
   "name": "python",
   "nbconvert_exporter": "python",
   "pygments_lexer": "ipython3",
   "version": "3.11.6"
  }
 },
 "nbformat": 4,
 "nbformat_minor": 2
}
