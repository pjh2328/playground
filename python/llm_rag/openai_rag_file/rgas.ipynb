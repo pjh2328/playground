{
 "cells": [
  {
   "cell_type": "code",
   "execution_count": 19,
   "metadata": {},
   "outputs": [
    {
     "name": "stdout",
     "output_type": "stream",
     "text": [
      "\u001b[33mWARNING: Skipping /opt/homebrew/lib/python3.11/site-packages/Jinja2-3.1.2.dist-info due to invalid metadata entry 'name'\u001b[0m\u001b[33m\n",
      "\u001b[0m\u001b[33mWARNING: Skipping /opt/homebrew/lib/python3.11/site-packages/pytz-2023.3.post1.dist-info due to invalid metadata entry 'name'\u001b[0m\u001b[33m\n",
      "\u001b[0m\u001b[33mWARNING: Skipping /opt/homebrew/lib/python3.11/site-packages/Jinja2-3.1.2.dist-info due to invalid metadata entry 'name'\u001b[0m\u001b[33m\n",
      "\u001b[0m\u001b[33mWARNING: Skipping /opt/homebrew/lib/python3.11/site-packages/pytz-2023.3.post1.dist-info due to invalid metadata entry 'name'\u001b[0m\u001b[33m\n",
      "\u001b[0m\u001b[33mWARNING: Skipping /opt/homebrew/lib/python3.11/site-packages/certifi-2023.7.22-py3.11.egg-info due to invalid metadata entry 'name'\u001b[0m\u001b[33m\n",
      "\u001b[0m\u001b[33mWARNING: Skipping /opt/homebrew/lib/python3.11/site-packages/certifi-2023.11.17.dist-info due to invalid metadata entry 'name'\u001b[0m\u001b[33m\n",
      "\u001b[0m\u001b[33mWARNING: Skipping /opt/homebrew/lib/python3.11/site-packages/pyparsing-3.1.1.dist-info due to invalid metadata entry 'name'\u001b[0m\u001b[33m\n",
      "\u001b[0mCollecting langchainhub\n",
      "  Downloading langchainhub-0.1.14-py3-none-any.whl.metadata (478 bytes)\n",
      "Requirement already satisfied: requests<3,>=2 in /opt/homebrew/lib/python3.11/site-packages (from langchainhub) (2.31.0)\n",
      "Collecting types-requests<3.0.0.0,>=2.31.0.2 (from langchainhub)\n",
      "  Downloading types_requests-2.31.0.20240218-py3-none-any.whl.metadata (1.8 kB)\n",
      "Requirement already satisfied: charset-normalizer<4,>=2 in /opt/homebrew/lib/python3.11/site-packages (from requests<3,>=2->langchainhub) (3.2.0)\n",
      "Requirement already satisfied: idna<4,>=2.5 in /opt/homebrew/lib/python3.11/site-packages (from requests<3,>=2->langchainhub) (3.4)\n",
      "Requirement already satisfied: urllib3<3,>=1.21.1 in /opt/homebrew/lib/python3.11/site-packages (from requests<3,>=2->langchainhub) (1.26.16)\n",
      "Requirement already satisfied: certifi>=2017.4.17 in /opt/homebrew/lib/python3.11/site-packages (from requests<3,>=2->langchainhub) (2023.5.7)\n",
      "Collecting urllib3<3,>=1.21.1 (from requests<3,>=2->langchainhub)\n",
      "  Downloading urllib3-2.2.1-py3-none-any.whl.metadata (6.4 kB)\n",
      "Downloading langchainhub-0.1.14-py3-none-any.whl (3.4 kB)\n",
      "Downloading types_requests-2.31.0.20240218-py3-none-any.whl (14 kB)\n",
      "Downloading urllib3-2.2.1-py3-none-any.whl (121 kB)\n",
      "\u001b[2K   \u001b[90m━━━━━━━━━━━━━━━━━━━━━━━━━━━━━━━━━━━━━━━━\u001b[0m \u001b[32m121.1/121.1 kB\u001b[0m \u001b[31m6.5 MB/s\u001b[0m eta \u001b[36m0:00:00\u001b[0m\n",
      "\u001b[?25h\u001b[33mWARNING: Skipping /opt/homebrew/lib/python3.11/site-packages/Jinja2-3.1.2.dist-info due to invalid metadata entry 'name'\u001b[0m\u001b[33m\n",
      "\u001b[0m\u001b[33mWARNING: Skipping /opt/homebrew/lib/python3.11/site-packages/pytz-2023.3.post1.dist-info due to invalid metadata entry 'name'\u001b[0m\u001b[33m\n",
      "\u001b[0m\u001b[33mWARNING: Skipping /opt/homebrew/lib/python3.11/site-packages/certifi-2023.7.22-py3.11.egg-info due to invalid metadata entry 'name'\u001b[0m\u001b[33m\n",
      "\u001b[0m\u001b[33mWARNING: Skipping /opt/homebrew/lib/python3.11/site-packages/certifi-2023.11.17.dist-info due to invalid metadata entry 'name'\u001b[0m\u001b[33m\n",
      "\u001b[0m\u001b[33mWARNING: Skipping /opt/homebrew/lib/python3.11/site-packages/pyparsing-3.1.1.dist-info due to invalid metadata entry 'name'\u001b[0m\u001b[33m\n",
      "\u001b[0mInstalling collected packages: urllib3, types-requests, langchainhub\n",
      "  Attempting uninstall: urllib3\n",
      "\u001b[33m    WARNING: Skipping /opt/homebrew/lib/python3.11/site-packages/Jinja2-3.1.2.dist-info due to invalid metadata entry 'name'\u001b[0m\u001b[33m\n",
      "\u001b[0m\u001b[33m    WARNING: Skipping /opt/homebrew/lib/python3.11/site-packages/pytz-2023.3.post1.dist-info due to invalid metadata entry 'name'\u001b[0m\u001b[33m\n",
      "\u001b[0m\u001b[33m    WARNING: Skipping /opt/homebrew/lib/python3.11/site-packages/certifi-2023.7.22-py3.11.egg-info due to invalid metadata entry 'name'\u001b[0m\u001b[33m\n",
      "\u001b[0m\u001b[33m    WARNING: Skipping /opt/homebrew/lib/python3.11/site-packages/certifi-2023.11.17.dist-info due to invalid metadata entry 'name'\u001b[0m\u001b[33m\n",
      "\u001b[0m\u001b[33m    WARNING: Skipping /opt/homebrew/lib/python3.11/site-packages/pyparsing-3.1.1.dist-info due to invalid metadata entry 'name'\u001b[0m\u001b[33m\n",
      "\u001b[0m    Found existing installation: urllib3 1.26.16\n",
      "    Uninstalling urllib3-1.26.16:\n",
      "      Successfully uninstalled urllib3-1.26.16\n",
      "\u001b[33mWARNING: Skipping /opt/homebrew/lib/python3.11/site-packages/Jinja2-3.1.2.dist-info due to invalid metadata entry 'name'\u001b[0m\u001b[33m\n",
      "\u001b[0m\u001b[33mWARNING: Skipping /opt/homebrew/lib/python3.11/site-packages/pytz-2023.3.post1.dist-info due to invalid metadata entry 'name'\u001b[0m\u001b[33m\n",
      "\u001b[0m\u001b[33mWARNING: Skipping /opt/homebrew/lib/python3.11/site-packages/Jinja2-3.1.2.dist-info due to invalid metadata entry 'name'\u001b[0m\u001b[33m\n",
      "\u001b[0m\u001b[33mWARNING: Skipping /opt/homebrew/lib/python3.11/site-packages/pytz-2023.3.post1.dist-info due to invalid metadata entry 'name'\u001b[0m\u001b[33m\n",
      "\u001b[0m\u001b[33mWARNING: Skipping /opt/homebrew/lib/python3.11/site-packages/Jinja2-3.1.2.dist-info due to invalid metadata entry 'name'\u001b[0m\u001b[33m\n",
      "\u001b[0m\u001b[33mWARNING: Skipping /opt/homebrew/lib/python3.11/site-packages/pytz-2023.3.post1.dist-info due to invalid metadata entry 'name'\u001b[0m\u001b[33m\n",
      "\u001b[0m\u001b[33mWARNING: Skipping /opt/homebrew/lib/python3.11/site-packages/certifi-2023.7.22-py3.11.egg-info due to invalid metadata entry 'name'\u001b[0m\u001b[33m\n",
      "\u001b[0m\u001b[33mWARNING: Skipping /opt/homebrew/lib/python3.11/site-packages/certifi-2023.11.17.dist-info due to invalid metadata entry 'name'\u001b[0m\u001b[33m\n",
      "\u001b[0m\u001b[31mERROR: pip's dependency resolver does not currently take into account all the packages that are installed. This behaviour is the source of the following dependency conflicts.\n",
      "google-auth 2.21.0 requires urllib3<2.0, but you have urllib3 2.2.1 which is incompatible.\u001b[0m\u001b[31m\n",
      "\u001b[0mSuccessfully installed langchainhub-0.1.14 types-requests-2.31.0.20240218 urllib3-2.2.1\n",
      "\u001b[33mWARNING: Skipping /opt/homebrew/lib/python3.11/site-packages/Jinja2-3.1.2.dist-info due to invalid metadata entry 'name'\u001b[0m\u001b[33m\n",
      "\u001b[0m\u001b[33mWARNING: Skipping /opt/homebrew/lib/python3.11/site-packages/pytz-2023.3.post1.dist-info due to invalid metadata entry 'name'\u001b[0m\u001b[33m\n",
      "\u001b[0m\u001b[33mWARNING: Skipping /opt/homebrew/lib/python3.11/site-packages/Jinja2-3.1.2.dist-info due to invalid metadata entry 'name'\u001b[0m\u001b[33m\n",
      "\u001b[0m\u001b[33mWARNING: Skipping /opt/homebrew/lib/python3.11/site-packages/pytz-2023.3.post1.dist-info due to invalid metadata entry 'name'\u001b[0m\u001b[33m\n",
      "\u001b[0m\u001b[33mWARNING: Skipping /opt/homebrew/lib/python3.11/site-packages/Jinja2-3.1.2.dist-info due to invalid metadata entry 'name'\u001b[0m\u001b[33m\n",
      "\u001b[0m\u001b[33mWARNING: Skipping /opt/homebrew/lib/python3.11/site-packages/pytz-2023.3.post1.dist-info due to invalid metadata entry 'name'\u001b[0m\u001b[33m\n",
      "\u001b[0mNote: you may need to restart the kernel to use updated packages.\n"
     ]
    }
   ],
   "source": [
    "pip install langchainhub"
   ]
  },
  {
   "cell_type": "code",
   "execution_count": 1,
   "metadata": {},
   "outputs": [],
   "source": [
    "import os\n",
    "import tiktoken\n",
    "import google.generativeai as genai\n",
    "from IPython.display import display\n",
    "from IPython.display import Markdown\n",
    "from langchain.text_splitter import RecursiveCharacterTextSplitter\n",
    "from langchain.document_loaders import PyPDFLoader\n",
    "from langchain.embeddings import HuggingFaceEmbeddings\n",
    "from langchain.chains import RetrievalQA\n",
    "from langchain_google_genai import ChatGoogleGenerativeAI\n",
    "from langchain.vectorstores import FAISS\n"
   ]
  },
  {
   "cell_type": "code",
   "execution_count": 2,
   "metadata": {},
   "outputs": [
    {
     "name": "stdout",
     "output_type": "stream",
     "text": [
      "LangChain Version: 0.1.7\n"
     ]
    }
   ],
   "source": [
    "import langchain\n",
    "print(f\"LangChain Version: {langchain.__version__}\")"
   ]
  },
  {
   "cell_type": "code",
   "execution_count": 15,
   "metadata": {},
   "outputs": [],
   "source": [
    "import os\n",
    "import openai\n",
    "from getpass import getpass\n",
    "\n",
    "openai.api_key = getpass(\"Please provide your OpenAI Key: \")\n",
    "os.environ[\"OPENAI_API_KEY\"] = openai.api_key"
   ]
  },
  {
   "cell_type": "code",
   "execution_count": 16,
   "metadata": {},
   "outputs": [],
   "source": [
    "loader = PyPDFLoader(\"/Users/jaehyeongpark/Documents/kb_report.pdf\")\n",
    "documents = loader.load_and_split()"
   ]
  },
  {
   "cell_type": "code",
   "execution_count": 17,
   "metadata": {},
   "outputs": [
    {
     "data": {
      "text/plain": [
       "{'source': '/Users/jaehyeongpark/Documents/kb_report.pdf', 'page': 0}"
      ]
     },
     "execution_count": 17,
     "metadata": {},
     "output_type": "execute_result"
    }
   ],
   "source": [
    "documents[0].metadata"
   ]
  },
  {
   "cell_type": "code",
   "execution_count": 18,
   "metadata": {},
   "outputs": [],
   "source": [
    "from langchain.text_splitter import RecursiveCharacterTextSplitter\n",
    "\n",
    "text_splitter = RecursiveCharacterTextSplitter(\n",
    "    chunk_size = 700,\n",
    "    chunk_overlap = 50\n",
    ")\n",
    "\n",
    "documents = text_splitter.split_documents(documents)"
   ]
  },
  {
   "cell_type": "code",
   "execution_count": 19,
   "metadata": {},
   "outputs": [
    {
     "data": {
      "text/plain": [
       "17"
      ]
     },
     "execution_count": 19,
     "metadata": {},
     "output_type": "execute_result"
    }
   ],
   "source": [
    "len(documents)"
   ]
  },
  {
   "cell_type": "code",
   "execution_count": 20,
   "metadata": {},
   "outputs": [],
   "source": [
    "from langchain_openai import OpenAIEmbeddings\n",
    "\n",
    "embeddings = OpenAIEmbeddings(\n",
    "    model=\"text-embedding-ada-002\"\n",
    ")"
   ]
  },
  {
   "cell_type": "code",
   "execution_count": 21,
   "metadata": {},
   "outputs": [],
   "source": [
    "from langchain_community.vectorstores import FAISS\n",
    "\n",
    "vector_store = FAISS.from_documents(documents, embeddings)"
   ]
  },
  {
   "cell_type": "code",
   "execution_count": 22,
   "metadata": {},
   "outputs": [],
   "source": [
    "retriever = vector_store.as_retriever()"
   ]
  },
  {
   "cell_type": "code",
   "execution_count": 23,
   "metadata": {},
   "outputs": [],
   "source": [
    "retrieved_documents = retriever.invoke(\"주택 담보 대출의 동향은?\")"
   ]
  },
  {
   "cell_type": "code",
   "execution_count": 24,
   "metadata": {},
   "outputs": [
    {
     "name": "stdout",
     "output_type": "stream",
     "text": [
      "page_content='2 \\n \\n목 차 \\n \\n \\n \\n \\n \\n· 주택 매매   …………………………………………………   4 \\n· 주택 전세   …………………………………………………   5 \\n· 주택 거래   …………………………………………………   6 \\n· 주택 분양   …………………………………………………   7 \\n· 토지        …………………………………………………   8 \\n· 주택 금융   …………………………………………………   9 \\n \\n \\n \\n \\n \\n \\n \\n  주택 시장 동향' metadata={'source': '/Users/jaehyeongpark/Documents/kb_report.pdf', 'page': 1}\n",
      "page_content='9 \\n[주택 금융] 주택담보대출  증가세가 소폭 둔화 \\n \\n■ 2023년 12월 은행권  주택담보대출 (전세자금대출  포함)은 전월 대비 5.2조 원 증가 \\n\\uf06d 8월 전월 대비 7조 원 증가하며 최고치를  기록한  후 전반적으로  증가세 가 둔화되고  있으나 , 여전히  \\n2022 년 월평균  순증액 (1.7조 원)을 크게 상회 \\n∙ 전세자금대출  잔액은  2023 년 6월 이후 큰 변화 없이 보합세를  유지 \\n\\uf06d 거래 침체와  정부의  가계대출  관리 기조 등을 감안할  때 주택담보대출  증가세가  한풀 꺾일 것으로  전망 \\n \\n그림 20| 은행권  주택담보대출  규모 추이  그림 21| 은행권  전세자금대출  규모 추이 \\n  \\n \\n주: 전세자금대출  등 주택 관련 대출 포함 \\n자료: 한국은행   주: 월간 순증액은  한국은행  월간 수보 기준, 기금재원대출  제외 \\n자료: 한국은행  \\n \\n■ 주택담보대출 (신규 취급액  기준) 금리는 2개월 연속 하락세를 이어감  \\n\\uf06d 2023 년 12월 신규 취급액  기준 주택담보대출  금리는  4.16% 로 전월 대비 0.32%p 하락 \\n∙ 코픽스  금리(신잔액 )는 전월 대비 0.06%p 하락하며  2021 년 4월 이후 32개월 만에 하락 전환 \\n∙ 11월 은행권  가계대출  연체율은  0.39% 로 전월 대비 소폭 상승한 데 비해 주택담보대출  연체\\n율은 0.25% 를 유지' metadata={'source': '/Users/jaehyeongpark/Documents/kb_report.pdf', 'page': 8}\n",
      "page_content='3 \\n \\n   \\n     \\n \\n◦ 주택 매매가격은 하락세 가 이어지고  있으나 , 연초 이후 ‘하락 전망’ 비중은  둔화 \\n∙ 1월 전국 주택 매매가격 은 전월 대비 0.12%  하락하며 전국 대부분  지역에서  하락세 를 보임 \\n- 수도권과  비수도권에서  모두 하락세 를 이어감  \\n- 5개광역시 는 하락세가  장기화 되고 있으며 , 대구에서  가장 큰 폭으로  하락 \\n∙ 매매가격전망지수는  여전히  ‘하락 전망’ 비중이  크지만 , 연초 이후 ‘하락 전망’ 비중은  둔화 \\n◦ 아파트  선호 현상으로  인해 수도권  아파트를  중심으로  전세가격  상승세 가 지속될 전망 \\n∙ 주택 전세가격 은 전월 대비 0.09% 상승하며  5개월 연속 상승세 나, 시장 분위기는  지역별로  차이를 보임 \\n- 수도권의  경우 서울, 경기 지역은  상승세를  보이는  반면 인천은  2개월 연속 하락세  \\n- 비수도권은  대전을  제외한  전국 대부분  지역에서  하락세 를 이어가며  하락폭이  확대됨  \\n∙ 아파트  선호 현상과  수도권  아파트  입주 물량 감소 등의 영향으로  당분간  수도권  전세가격  상승세 가 지\\n속될 전망 \\n- 수도권 은 전세가격전망지수 가 2개월 만에 ‘상승 전망’으로 전환되며 전세가격  상승세가  지속됨 \\n◦ 주택 매매 수요 위축으로  2023년 전월세  거래량 은 최근 5년 평균 대비 21.7%  증가' metadata={'source': '/Users/jaehyeongpark/Documents/kb_report.pdf', 'page': 2}\n",
      "page_content='5 \\n[주택 전세] 수도권  아파트를 중심으로  전세가격  상승세가 지속될 전망 \\n \\n■ 주택 전세가격은 지난해  9월 이후 5개월 연속 상승세를 이어감  \\n\\uf06d 1월 전국 주택 전세가격 은 전월과  동일하게  0.09% 상승했으나  시장 분위기는  지역별 로 차이를 보임 \\n∙ 수도권 의 경우 서울, 경기 지역은  상승세 를 보이는  반면 인천은  2개월 연속 하락세  \\n∙ 비수도권 은 대전을  제외한  전국 대부분  지역에서  하락세를  보이며 , 대구는  매매시장  위축과  함께 전\\n세가격도  하락폭을  확대 \\n \\n그림 5| 지역별  주택 전세가격지수  변동률  추이  그림 6| 지역별  주택 전세가격지수  변동률  \\n  \\n \\n자료: KB국민은행   자료: KB국민은행  \\n \\n■ 아파트에 대한 선호도가 여전히  높으며 , 수도권을 중심으로  다시 ‘상승 전망’ 비중 확대 \\n\\uf06d 서울과 수도권  아파트 를 중심으로  전세가격  상승세가  지속되고  있으며 , 수도권  전세가격전망지수는  \\n지난해  11월 이후 2개월 만에 다시 ‘상승 전망’으로 전환 \\n∙ 아파트  선호 현상과 올해 아파트  입주물량  감소 등의 영향으로  당분간  수도권  아파트  전세가\\n격 상승세가  지속될  전망 \\n \\n그림 7| 유형별  주택 전세가격지수  변동률  추이  그림 8| 지역별  주택 전세가격전망지수  추이' metadata={'source': '/Users/jaehyeongpark/Documents/kb_report.pdf', 'page': 4}\n"
     ]
    }
   ],
   "source": [
    "for doc in retrieved_documents:\n",
    "  print(doc)"
   ]
  },
  {
   "cell_type": "code",
   "execution_count": 25,
   "metadata": {},
   "outputs": [],
   "source": [
    "from langchain import hub\n",
    "\n",
    "retrieval_qa_prompt = hub.pull(\"langchain-ai/retrieval-qa-chat\")"
   ]
  },
  {
   "cell_type": "code",
   "execution_count": 26,
   "metadata": {},
   "outputs": [
    {
     "name": "stdout",
     "output_type": "stream",
     "text": [
      "Answer any use questions based solely on the context below:\n",
      "\n",
      "<context>\n",
      "{context}\n",
      "</context>\n"
     ]
    }
   ],
   "source": [
    "print(retrieval_qa_prompt.messages[0].prompt.template)"
   ]
  },
  {
   "cell_type": "code",
   "execution_count": 27,
   "metadata": {},
   "outputs": [],
   "source": [
    "from langchain.prompts import ChatPromptTemplate\n",
    "\n",
    "template = \"\"\"Answer the question based only on the following context. If you cannot answer the question with the context, please respond with 'I don't know':\n",
    "\n",
    "Context:\n",
    "{context}\n",
    "\n",
    "Question:\n",
    "{question}\n",
    "\"\"\"\n",
    "\n",
    "prompt = ChatPromptTemplate.from_template(template)"
   ]
  },
  {
   "cell_type": "code",
   "execution_count": 28,
   "metadata": {},
   "outputs": [],
   "source": [
    "from operator import itemgetter\n",
    "\n",
    "from langchain_openai import ChatOpenAI\n",
    "from langchain_core.output_parsers import StrOutputParser\n",
    "from langchain_core.runnables import RunnablePassthrough\n",
    "\n",
    "primary_qa_llm = ChatOpenAI(model_name=\"gpt-3.5-turbo\", temperature=0)\n",
    "\n",
    "retrieval_augmented_qa_chain = (\n",
    "    # INVOKE CHAIN WITH: {\"question\" : \"<<SOME USER QUESTION>>\"}\n",
    "    # \"question\" : populated by getting the value of the \"question\" key\n",
    "    # \"context\"  : populated by getting the value of the \"question\" key and chaining it into the base_retriever\n",
    "    {\"context\": itemgetter(\"question\") | retriever, \"question\": itemgetter(\"question\")}\n",
    "    # \"context\"  : is assigned to a RunnablePassthrough object (will not be called or considered in the next step)\n",
    "    #              by getting the value of the \"context\" key from the previous step\n",
    "    | RunnablePassthrough.assign(context=itemgetter(\"context\"))\n",
    "    # \"response\" : the \"context\" and \"question\" values are used to format our prompt object and then piped\n",
    "    #              into the LLM and stored in a key called \"response\"\n",
    "    # \"context\"  : populated by getting the value of the \"context\" key from the previous step\n",
    "    | {\"response\": prompt | primary_qa_llm, \"context\": itemgetter(\"context\")}\n",
    ")"
   ]
  },
  {
   "cell_type": "code",
   "execution_count": 30,
   "metadata": {},
   "outputs": [
    {
     "name": "stdout",
     "output_type": "stream",
     "text": [
      "주택 매매가격은 하락세가 이어지고 있으며, 연초 이후 '하락 전망' 비중은 둔화되고 있습니다.\n"
     ]
    }
   ],
   "source": [
    "question = \"주택 매매 동향은 어땧습니까?\"\n",
    "\n",
    "result = retrieval_augmented_qa_chain.invoke({\"question\" : question})\n",
    "\n",
    "print(result[\"response\"].content)"
   ]
  },
  {
   "cell_type": "code",
   "execution_count": 31,
   "metadata": {},
   "outputs": [
    {
     "name": "stdout",
     "output_type": "stream",
     "text": [
      "주택 매매가격은 하락세가 이어지고 있으며, 연초 이후 '하락 전망' 비중은 둔화되고 있습니다.\n",
      "[Document(page_content='2 \\n \\n목 차 \\n \\n \\n \\n \\n \\n· 주택 매매   …………………………………………………   4 \\n· 주택 전세   …………………………………………………   5 \\n· 주택 거래   …………………………………………………   6 \\n· 주택 분양   …………………………………………………   7 \\n· 토지        …………………………………………………   8 \\n· 주택 금융   …………………………………………………   9 \\n \\n \\n \\n \\n \\n \\n \\n  주택 시장 동향', metadata={'source': '/Users/jaehyeongpark/Documents/kb_report.pdf', 'page': 1}), Document(page_content='3 \\n \\n   \\n     \\n \\n◦ 주택 매매가격은 하락세 가 이어지고  있으나 , 연초 이후 ‘하락 전망’ 비중은  둔화 \\n∙ 1월 전국 주택 매매가격 은 전월 대비 0.12%  하락하며 전국 대부분  지역에서  하락세 를 보임 \\n- 수도권과  비수도권에서  모두 하락세 를 이어감  \\n- 5개광역시 는 하락세가  장기화 되고 있으며 , 대구에서  가장 큰 폭으로  하락 \\n∙ 매매가격전망지수는  여전히  ‘하락 전망’ 비중이  크지만 , 연초 이후 ‘하락 전망’ 비중은  둔화 \\n◦ 아파트  선호 현상으로  인해 수도권  아파트를  중심으로  전세가격  상승세 가 지속될 전망 \\n∙ 주택 전세가격 은 전월 대비 0.09% 상승하며  5개월 연속 상승세 나, 시장 분위기는  지역별로  차이를 보임 \\n- 수도권의  경우 서울, 경기 지역은  상승세를  보이는  반면 인천은  2개월 연속 하락세  \\n- 비수도권은  대전을  제외한  전국 대부분  지역에서  하락세 를 이어가며  하락폭이  확대됨  \\n∙ 아파트  선호 현상과  수도권  아파트  입주 물량 감소 등의 영향으로  당분간  수도권  전세가격  상승세 가 지\\n속될 전망 \\n- 수도권 은 전세가격전망지수 가 2개월 만에 ‘상승 전망’으로 전환되며 전세가격  상승세가  지속됨 \\n◦ 주택 매매 수요 위축으로  2023년 전월세  거래량 은 최근 5년 평균 대비 21.7%  증가', metadata={'source': '/Users/jaehyeongpark/Documents/kb_report.pdf', 'page': 2}), Document(page_content='그림 3| 지역별  주택 매매가격지수  변동률   그림 4| 지역별  주택 매매가격전망지수  추이 \\n  \\n \\n자료: KB국민은행   자료: KB국민은행', metadata={'source': '/Users/jaehyeongpark/Documents/kb_report.pdf', 'page': 3}), Document(page_content='4 \\n[주택 매매] 전국 주택 매매가격  하락세가 이어지나 , ‘하락 전망’ 비중은  둔화 \\n \\n■ 주택 매매가격은 연초부터  전국 대부분  지역에서  하락세를 이어감  \\n\\uf06d 1월 전국 주택 매매가격은  전월 대비 0.12% 하락하면서  지난해  12월 이후 2개월 연속 하락세 \\n∙ 수도권과  비수도권  모두 하락세 를 보이며, 5개광역시는  2022 년 7월 이후 19개월 연속 하락세 \\n∙ 5개광역시  내에서도  지역에  따라 하락폭  차이를 보는데, 주택시장  위축이 장기화되고  있는 대구에서  \\n가장 큰 폭으로  하락 \\n \\n그림 1| 지역별  주택 매매가격지수  변동률  추이  그림 2| 지역별  주택 매매가격지수  변동률  \\n  \\n \\n자료: KB국민은행   자료: KB국민은행  \\n \\n■ 하락폭은 지난해  월평균  대비 낮은 수준이며 , 연초 이후 ‘하락 전망’ 비중이  둔화 \\n\\uf06d 1월 주택 매매가격은  전월 대비 하락폭이  확대되었으나  지난해  월평균  하락폭  대비 3분의 1 \\n수준이며 , 하락폭이  가장 큰 대구도  지난해  월평균  하락폭  대비 절반 수준에 그침 \\n\\uf06d 주택 매매가격전망지수는  여전히  ‘상승 전망’보다 ‘하락 전망’ 비중이  크지만  연초 이후 정부의  규제 \\n완화와  4월 총선, 금리 인하에 대한 기대감  등으로  하락폭이  확대될  가능성은  적음', metadata={'source': '/Users/jaehyeongpark/Documents/kb_report.pdf', 'page': 3})]\n"
     ]
    }
   ],
   "source": [
    "question = \"주택 매매 동향은 어땧습니까?\"\n",
    "\n",
    "result = retrieval_augmented_qa_chain.invoke({\"question\" : question})\n",
    "\n",
    "print(result[\"response\"].content)\n",
    "print(result[\"context\"])"
   ]
  },
  {
   "cell_type": "code",
   "execution_count": 32,
   "metadata": {},
   "outputs": [],
   "source": [
    "documents = loader.load()\n",
    "text_splitter = RecursiveCharacterTextSplitter(\n",
    "    chunk_size = 1000,\n",
    "    chunk_overlap = 200\n",
    ")\n",
    "documents = text_splitter.split_documents(documents)"
   ]
  },
  {
   "cell_type": "code",
   "execution_count": 33,
   "metadata": {},
   "outputs": [
    {
     "data": {
      "text/plain": [
       "10"
      ]
     },
     "execution_count": 33,
     "metadata": {},
     "output_type": "execute_result"
    }
   ],
   "source": [
    "len(documents)"
   ]
  },
  {
   "cell_type": "code",
   "execution_count": 34,
   "metadata": {},
   "outputs": [
    {
     "data": {
      "application/vnd.jupyter.widget-view+json": {
       "model_id": "1cf12611246148599ee47cbe5a676e14",
       "version_major": 2,
       "version_minor": 0
      },
      "text/plain": [
       "embedding nodes:   0%|          | 0/54 [00:00<?, ?it/s]"
      ]
     },
     "metadata": {},
     "output_type": "display_data"
    },
    {
     "data": {
      "application/vnd.jupyter.widget-view+json": {
       "model_id": "ce8a68379e2149e796594bbe12dbd001",
       "version_major": 2,
       "version_minor": 0
      },
      "text/plain": [
       "Generating:   0%|          | 0/10 [00:00<?, ?it/s]"
      ]
     },
     "metadata": {},
     "output_type": "display_data"
    }
   ],
   "source": [
    "from ragas.testset.generator import TestsetGenerator\n",
    "from ragas.testset.evolutions import simple, reasoning, multi_context\n",
    "\n",
    "generator = TestsetGenerator.with_openai()\n",
    "\n",
    "testset = generator.generate_with_langchain_docs(documents, test_size=10, distributions={simple: 0.5, reasoning: 0.25, multi_context: 0.25})"
   ]
  },
  {
   "cell_type": "code",
   "execution_count": null,
   "metadata": {},
   "outputs": [],
   "source": []
  }
 ],
 "metadata": {
  "kernelspec": {
   "display_name": "Python 3",
   "language": "python",
   "name": "python3"
  },
  "language_info": {
   "codemirror_mode": {
    "name": "ipython",
    "version": 3
   },
   "file_extension": ".py",
   "mimetype": "text/x-python",
   "name": "python",
   "nbconvert_exporter": "python",
   "pygments_lexer": "ipython3",
   "version": "3.11.6"
  }
 },
 "nbformat": 4,
 "nbformat_minor": 2
}
