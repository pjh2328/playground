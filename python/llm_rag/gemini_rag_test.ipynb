{
 "cells": [
  {
   "cell_type": "code",
   "execution_count": 1,
   "metadata": {},
   "outputs": [
    {
     "data": {
      "text/markdown": [
       "**서울 주택 시장 동향**\n",
       "\n",
       "**가격**\n",
       "\n",
       "* 2023년 1월, 아파트 평균 평방미터당 가격: 8,942,000원 (전년 대비 0.7% 증가)\n",
       "* 주택 매매 가격은 2021년 이후 안정적인 추세를 보임\n",
       "\n",
       "**거래량**\n",
       "\n",
       "* 2023년 1월, 아파트 매매 거래량: 21,948건 (전년 대비 38.9% 감소)\n",
       "* 2022년 초 이후 거래량이 크게 감소함\n",
       "\n",
       "**공급**\n",
       "\n",
       "* 2023년 1월, 공급 중인 아파트 매물 수: 73,658건 (전년 대비 17.2% 감소)\n",
       "* 공급 부족으로 인해 가격 상승 압력이 가해짐\n",
       "\n",
       "**금리**\n",
       "\n",
       "* 2023년 2월 기준, 한국은행 기준 금리: 3.50%\n",
       "* 높은 금리로 인해 주택 대출 금리가 부담스러워짐\n",
       "\n",
       "**정부 정책**\n",
       "\n",
       "* 정부는 주택 시장 안정화를 위해 여러 가지 정책을 시행함\n",
       "* 대출 한도 규제, 세금 인상, 건설 규제 완화 등이 포함됨\n",
       "\n",
       "**전망**\n",
       "\n",
       "* 금리 인상과 거래량 감소로 인해 2023년 주택 시장은 어려움을 겪을 것으로 예상됨\n",
       "* 그러나 공급 부족과 낮은 재고량으로 인해 가격 하락은 제한적일 것으로 예상됨"
      ],
      "text/plain": [
       "<IPython.core.display.Markdown object>"
      ]
     },
     "execution_count": 1,
     "metadata": {},
     "output_type": "execute_result"
    }
   ],
   "source": []
  },
  {
   "cell_type": "code",
   "execution_count": null,
   "metadata": {},
   "outputs": [],
   "source": []
  }
 ],
 "metadata": {
  "kernelspec": {
   "display_name": "Python 3",
   "language": "python",
   "name": "python3"
  },
  "language_info": {
   "codemirror_mode": {
    "name": "ipython",
    "version": 3
   },
   "file_extension": ".py",
   "mimetype": "text/x-python",
   "name": "python",
   "nbconvert_exporter": "python",
   "pygments_lexer": "ipython3",
   "version": "3.11.6"
  }
 },
 "nbformat": 4,
 "nbformat_minor": 2
}
