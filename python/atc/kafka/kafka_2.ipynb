{
 "cells": [
  {
   "cell_type": "code",
   "execution_count": 1,
   "metadata": {},
   "outputs": [],
   "source": [
    "from kafka import KafkaConsumer\n",
    "\n",
    "# Kafka consumer configuration\n",
    "consumer = KafkaConsumer(\n",
    "    'stock_prices',  # Topic to subscribe to\n",
    "    bootstrap_servers='localhost:9092',\n",
    "    group_id='stock_consumer_group',\n",
    "    auto_offset_reset='earliest'  # Start reading from the beginning of the topic\n",
    ")\n",
    "\n",
    "try:\n",
    "    for message in consumer:\n",
    "        # Print the received stock price data\n",
    "        print('Received message: {}'.format(message.value.decode('utf-8')))\n",
    "\n",
    "except KeyboardInterrupt:\n",
    "    pass\n",
    "finally:\n",
    "    # Close the Kafka consumer\n",
    "    consumer.close()"
   ]
  },
  {
   "cell_type": "code",
   "execution_count": null,
   "metadata": {},
   "outputs": [],
   "source": []
  }
 ],
 "metadata": {
  "kernelspec": {
   "display_name": "Python 3",
   "language": "python",
   "name": "python3"
  },
  "language_info": {
   "codemirror_mode": {
    "name": "ipython",
    "version": 3
   },
   "file_extension": ".py",
   "mimetype": "text/x-python",
   "name": "python",
   "nbconvert_exporter": "python",
   "pygments_lexer": "ipython3",
   "version": "3.11.6"
  }
 },
 "nbformat": 4,
 "nbformat_minor": 2
}
