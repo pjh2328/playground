{
 "cells": [
  {
   "cell_type": "code",
   "execution_count": 12,
   "metadata": {},
   "outputs": [],
   "source": [
    "import numpy as np\n",
    "import pandas as pd\n",
    "from sklearn.datasets import load_wine\n",
    "from sklearn.model_selection import train_test_split\n",
    "from sklearn.preprocessing import StandardScaler\n",
    "import tensorflow as tf\n",
    "from tensorflow import keras\n",
    "from tensorflow.keras.models import Sequential\n",
    "from tensorflow.keras.layers import Dense, Dropout\n",
    "from sklearn.metrics import accuracy_score\n"
   ]
  },
  {
   "cell_type": "code",
   "execution_count": 16,
   "metadata": {},
   "outputs": [],
   "source": [
    "# 데이터 준비 및 전처리 (X는 특성, y는 점수)\n",
    "X, y = load_wine(return_X_y=True)\n",
    "scaler = StandardScaler()\n",
    "X = scaler.fit_transform(X)\n",
    "\n",
    "# 데이터 분할\n",
    "X_train, X_test, y_train, y_test = train_test_split(X, y, test_size=0.2, random_state=42)\n"
   ]
  },
  {
   "cell_type": "code",
   "execution_count": 17,
   "metadata": {},
   "outputs": [
    {
     "name": "stdout",
     "output_type": "stream",
     "text": [
      "Epoch 1/50\n",
      "5/5 [==============================] - 1s 36ms/step - loss: 0.9973 - mae: 0.8427 - val_loss: 0.8335 - val_mae: 0.7593\n",
      "Epoch 2/50\n",
      "5/5 [==============================] - 0s 8ms/step - loss: 0.9963 - mae: 0.8427 - val_loss: 0.8334 - val_mae: 0.7593\n",
      "Epoch 3/50\n",
      "5/5 [==============================] - 0s 8ms/step - loss: 0.9962 - mae: 0.8427 - val_loss: 0.8334 - val_mae: 0.7593\n",
      "Epoch 4/50\n",
      "5/5 [==============================] - 0s 8ms/step - loss: 0.9961 - mae: 0.8427 - val_loss: 0.8334 - val_mae: 0.7593\n",
      "Epoch 5/50\n",
      "5/5 [==============================] - 0s 9ms/step - loss: 0.9961 - mae: 0.8427 - val_loss: 0.8334 - val_mae: 0.7593\n",
      "Epoch 6/50\n",
      "5/5 [==============================] - 0s 8ms/step - loss: 0.9961 - mae: 0.8427 - val_loss: 0.8334 - val_mae: 0.7593\n",
      "Epoch 7/50\n",
      "5/5 [==============================] - 0s 8ms/step - loss: 0.9961 - mae: 0.8427 - val_loss: 0.8334 - val_mae: 0.7593\n",
      "Epoch 8/50\n",
      "5/5 [==============================] - 0s 9ms/step - loss: 0.9961 - mae: 0.8427 - val_loss: 0.8333 - val_mae: 0.7593\n",
      "Epoch 9/50\n",
      "5/5 [==============================] - 0s 8ms/step - loss: 0.9961 - mae: 0.8427 - val_loss: 0.8333 - val_mae: 0.7593\n",
      "Epoch 10/50\n",
      "5/5 [==============================] - 0s 8ms/step - loss: 0.9961 - mae: 0.8427 - val_loss: 0.8333 - val_mae: 0.7593\n",
      "Epoch 11/50\n",
      "5/5 [==============================] - 0s 8ms/step - loss: 0.9961 - mae: 0.8427 - val_loss: 0.8333 - val_mae: 0.7593\n",
      "Epoch 12/50\n",
      "5/5 [==============================] - 0s 9ms/step - loss: 0.9961 - mae: 0.8427 - val_loss: 0.8333 - val_mae: 0.7593\n",
      "Epoch 13/50\n",
      "5/5 [==============================] - 0s 9ms/step - loss: 0.9961 - mae: 0.8427 - val_loss: 0.8333 - val_mae: 0.7593\n",
      "Epoch 14/50\n",
      "5/5 [==============================] - 0s 8ms/step - loss: 0.9961 - mae: 0.8427 - val_loss: 0.8333 - val_mae: 0.7593\n",
      "Epoch 15/50\n",
      "5/5 [==============================] - 0s 8ms/step - loss: 0.9961 - mae: 0.8427 - val_loss: 0.8333 - val_mae: 0.7593\n",
      "Epoch 16/50\n",
      "5/5 [==============================] - 0s 9ms/step - loss: 0.9961 - mae: 0.8427 - val_loss: 0.8333 - val_mae: 0.7593\n",
      "Epoch 17/50\n",
      "5/5 [==============================] - 0s 7ms/step - loss: 0.9961 - mae: 0.8427 - val_loss: 0.8333 - val_mae: 0.7593\n",
      "Epoch 18/50\n",
      "5/5 [==============================] - 0s 8ms/step - loss: 0.9961 - mae: 0.8427 - val_loss: 0.8333 - val_mae: 0.7593\n",
      "Epoch 19/50\n",
      "5/5 [==============================] - 0s 10ms/step - loss: 0.9961 - mae: 0.8427 - val_loss: 0.8333 - val_mae: 0.7593\n",
      "Epoch 20/50\n",
      "5/5 [==============================] - 0s 8ms/step - loss: 0.9961 - mae: 0.8427 - val_loss: 0.8333 - val_mae: 0.7593\n",
      "Epoch 21/50\n",
      "5/5 [==============================] - 0s 8ms/step - loss: 0.9961 - mae: 0.8427 - val_loss: 0.8333 - val_mae: 0.7593\n",
      "Epoch 22/50\n",
      "5/5 [==============================] - 0s 8ms/step - loss: 0.9961 - mae: 0.8427 - val_loss: 0.8333 - val_mae: 0.7593\n",
      "Epoch 23/50\n",
      "5/5 [==============================] - 0s 8ms/step - loss: 0.9961 - mae: 0.8427 - val_loss: 0.8333 - val_mae: 0.7593\n",
      "Epoch 24/50\n",
      "5/5 [==============================] - 0s 8ms/step - loss: 0.9961 - mae: 0.8427 - val_loss: 0.8333 - val_mae: 0.7593\n",
      "Epoch 25/50\n",
      "5/5 [==============================] - 0s 8ms/step - loss: 0.9961 - mae: 0.8427 - val_loss: 0.8333 - val_mae: 0.7593\n",
      "Epoch 26/50\n",
      "5/5 [==============================] - 0s 8ms/step - loss: 0.9961 - mae: 0.8427 - val_loss: 0.8333 - val_mae: 0.7593\n",
      "Epoch 27/50\n",
      "5/5 [==============================] - 0s 8ms/step - loss: 0.9961 - mae: 0.8427 - val_loss: 0.8333 - val_mae: 0.7593\n",
      "Epoch 28/50\n",
      "5/5 [==============================] - 0s 8ms/step - loss: 0.9961 - mae: 0.8427 - val_loss: 0.8333 - val_mae: 0.7593\n",
      "Epoch 29/50\n",
      "5/5 [==============================] - 0s 8ms/step - loss: 0.9961 - mae: 0.8427 - val_loss: 0.8333 - val_mae: 0.7593\n",
      "Epoch 30/50\n",
      "5/5 [==============================] - 0s 8ms/step - loss: 0.9961 - mae: 0.8427 - val_loss: 0.8333 - val_mae: 0.7593\n",
      "Epoch 31/50\n",
      "5/5 [==============================] - 0s 8ms/step - loss: 0.9961 - mae: 0.8427 - val_loss: 0.8333 - val_mae: 0.7593\n",
      "Epoch 32/50\n",
      "5/5 [==============================] - 0s 8ms/step - loss: 0.9961 - mae: 0.8427 - val_loss: 0.8333 - val_mae: 0.7593\n",
      "Epoch 33/50\n",
      "5/5 [==============================] - 0s 10ms/step - loss: 0.9961 - mae: 0.8427 - val_loss: 0.8333 - val_mae: 0.7593\n",
      "Epoch 34/50\n",
      "5/5 [==============================] - 0s 8ms/step - loss: 0.9961 - mae: 0.8427 - val_loss: 0.8333 - val_mae: 0.7593\n",
      "Epoch 35/50\n",
      "5/5 [==============================] - 0s 8ms/step - loss: 0.9961 - mae: 0.8427 - val_loss: 0.8333 - val_mae: 0.7593\n",
      "Epoch 36/50\n",
      "5/5 [==============================] - 0s 9ms/step - loss: 0.9961 - mae: 0.8427 - val_loss: 0.8333 - val_mae: 0.7593\n",
      "Epoch 37/50\n",
      "5/5 [==============================] - 0s 8ms/step - loss: 0.9961 - mae: 0.8427 - val_loss: 0.8333 - val_mae: 0.7593\n",
      "Epoch 38/50\n",
      "5/5 [==============================] - 0s 9ms/step - loss: 0.9961 - mae: 0.8427 - val_loss: 0.8333 - val_mae: 0.7593\n",
      "Epoch 39/50\n",
      "5/5 [==============================] - 0s 9ms/step - loss: 0.9961 - mae: 0.8427 - val_loss: 0.8333 - val_mae: 0.7593\n",
      "Epoch 40/50\n",
      "5/5 [==============================] - 0s 9ms/step - loss: 0.9961 - mae: 0.8427 - val_loss: 0.8333 - val_mae: 0.7593\n",
      "Epoch 41/50\n",
      "5/5 [==============================] - 0s 10ms/step - loss: 0.9961 - mae: 0.8427 - val_loss: 0.8333 - val_mae: 0.7593\n",
      "Epoch 42/50\n",
      "5/5 [==============================] - 0s 8ms/step - loss: 0.9961 - mae: 0.8427 - val_loss: 0.8333 - val_mae: 0.7593\n",
      "Epoch 43/50\n",
      "5/5 [==============================] - 0s 8ms/step - loss: 0.9961 - mae: 0.8427 - val_loss: 0.8333 - val_mae: 0.7593\n",
      "Epoch 44/50\n",
      "5/5 [==============================] - 0s 8ms/step - loss: 0.9961 - mae: 0.8427 - val_loss: 0.8333 - val_mae: 0.7593\n",
      "Epoch 45/50\n",
      "5/5 [==============================] - 0s 8ms/step - loss: 0.9961 - mae: 0.8427 - val_loss: 0.8333 - val_mae: 0.7593\n",
      "Epoch 46/50\n",
      "5/5 [==============================] - 0s 7ms/step - loss: 0.9961 - mae: 0.8427 - val_loss: 0.8333 - val_mae: 0.7593\n",
      "Epoch 47/50\n",
      "5/5 [==============================] - 0s 8ms/step - loss: 0.9961 - mae: 0.8427 - val_loss: 0.8333 - val_mae: 0.7593\n",
      "Epoch 48/50\n",
      "5/5 [==============================] - 0s 9ms/step - loss: 0.9961 - mae: 0.8427 - val_loss: 0.8333 - val_mae: 0.7593\n",
      "Epoch 49/50\n",
      "5/5 [==============================] - 0s 7ms/step - loss: 0.9961 - mae: 0.8427 - val_loss: 0.8333 - val_mae: 0.7593\n",
      "Epoch 50/50\n",
      "5/5 [==============================] - 0s 8ms/step - loss: 0.9961 - mae: 0.8427 - val_loss: 0.8333 - val_mae: 0.7593\n",
      "2/2 [==============================] - 0s 4ms/step - loss: 0.8333 - mae: 0.7593\n",
      "Mean Absolute Error: 0.7592591643333435\n"
     ]
    }
   ],
   "source": [
    "# 회귀 모델 정의\n",
    "model = Sequential([\n",
    "    Dense(128, activation='relu', input_shape=(X_train.shape[1],)),\n",
    "    Dense(64, activation='relu'),\n",
    "    Dense(64, activation='relu'),  # 새로운 레이어 추가\n",
    "    Dense(32, activation='relu'),  # 새로운 레이어 추가\n",
    "    Dense(32, activation='relu'),  # 새로운 레이어 추가\n",
    "    Dense(3, activation='softmax')\n",
    "])\n",
    "\n",
    "# 모델 컴파일\n",
    "model.compile(optimizer='adam', loss='mean_squared_error', metrics=['mae'])\n",
    "\n",
    "# 모델 학습\n",
    "model.fit(X_train, y_train, epochs=50, batch_size=32, validation_data=(X_test, y_test))\n",
    "\n",
    "# 모델 평가\n",
    "loss, mae = model.evaluate(X_test, y_test)\n",
    "print(f\"Mean Absolute Error: {mae}\")"
   ]
  },
  {
   "cell_type": "code",
   "execution_count": 18,
   "metadata": {},
   "outputs": [
    {
     "name": "stderr",
     "output_type": "stream",
     "text": [
      "c:\\Users\\Jay\\AppData\\Local\\Programs\\Python\\Python311\\Lib\\site-packages\\keras\\src\\engine\\training.py:3103: UserWarning: You are saving your model as an HDF5 file via `model.save()`. This file format is considered legacy. We recommend using instead the native Keras format, e.g. `model.save('my_model.keras')`.\n",
      "  saving_api.save_model(\n"
     ]
    }
   ],
   "source": [
    "# 모델 저장\n",
    "model.save(\"my_model_3.h5\")"
   ]
  },
  {
   "cell_type": "code",
   "execution_count": null,
   "metadata": {},
   "outputs": [],
   "source": []
  },
  {
   "cell_type": "code",
   "execution_count": null,
   "metadata": {},
   "outputs": [],
   "source": []
  }
 ],
 "metadata": {
  "kernelspec": {
   "display_name": "Python 3",
   "language": "python",
   "name": "python3"
  },
  "language_info": {
   "codemirror_mode": {
    "name": "ipython",
    "version": 3
   },
   "file_extension": ".py",
   "mimetype": "text/x-python",
   "name": "python",
   "nbconvert_exporter": "python",
   "pygments_lexer": "ipython3",
   "version": "3.11.1"
  },
  "orig_nbformat": 4
 },
 "nbformat": 4,
 "nbformat_minor": 2
}
