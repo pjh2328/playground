{
 "cells": [
  {
   "cell_type": "code",
   "execution_count": 4,
   "metadata": {},
   "outputs": [
    {
     "ename": "NameError",
     "evalue": "name 'pruning_params' is not defined",
     "output_type": "error",
     "traceback": [
      "\u001b[0;31m---------------------------------------------------------------------------\u001b[0m",
      "\u001b[0;31mNameError\u001b[0m                                 Traceback (most recent call last)",
      "\u001b[1;32m/Users/jaehyeongpark/jae/playground/python/atc/Optimizayion/OP_project/test.ipynb Cell 1\u001b[0m line \u001b[0;36m1\n\u001b[1;32m     <a href='vscode-notebook-cell:/Users/jaehyeongpark/jae/playground/python/atc/Optimizayion/OP_project/test.ipynb#W0sZmlsZQ%3D%3D?line=14'>15</a>\u001b[0m quantized_model_path \u001b[39m=\u001b[39m \u001b[39m\"\u001b[39m\u001b[39mquantized_model.h5\u001b[39m\u001b[39m\"\u001b[39m\n\u001b[1;32m     <a href='vscode-notebook-cell:/Users/jaehyeongpark/jae/playground/python/atc/Optimizayion/OP_project/test.ipynb#W0sZmlsZQ%3D%3D?line=16'>17</a>\u001b[0m \u001b[39m# 모델 가중치 가지치기 실행\u001b[39;00m\n\u001b[0;32m---> <a href='vscode-notebook-cell:/Users/jaehyeongpark/jae/playground/python/atc/Optimizayion/OP_project/test.ipynb#W0sZmlsZQ%3D%3D?line=18'>19</a>\u001b[0m prune_and_save_model(model, pruned_model_path, pruning_params, train_images, train_labels, batch_size, epochs, validation_split)\n\u001b[1;32m     <a href='vscode-notebook-cell:/Users/jaehyeongpark/jae/playground/python/atc/Optimizayion/OP_project/test.ipynb#W0sZmlsZQ%3D%3D?line=20'>21</a>\u001b[0m \u001b[39m# 모델 양자화 실행\u001b[39;00m\n\u001b[1;32m     <a href='vscode-notebook-cell:/Users/jaehyeongpark/jae/playground/python/atc/Optimizayion/OP_project/test.ipynb#W0sZmlsZQ%3D%3D?line=21'>22</a>\u001b[0m quantize_and_save_model(model, quantized_model_path, train_images, train_labels, batch_size, epochs, validation_split)\n",
      "\u001b[0;31mNameError\u001b[0m: name 'pruning_params' is not defined"
     ]
    }
   ],
   "source": [
    "import tensorflow as tf\n",
    "from tensorflow import keras\n",
    "import numpy as np\n",
    "from model_utils import *\n",
    "\n",
    "# 데이터 로드 및 전처리\n",
    "mnist = keras.datasets.mnist\n",
    "(train_images, train_labels), (test_images, test_labels) = mnist.load_data()\n",
    "train_images = train_images / 255.0\n",
    "test_images = test_images / 255.0\n",
    "\n",
    "# 모델 경로 설정\n",
    "model = \"my_model.h5\"\n",
    "pruned_model_path = \"pruned_model.h5\"\n",
    "quantized_model_path = \"quantized_model.h5\"\n",
    "\n",
    "# 모델 가중치 가지치기 실행\n",
    "\n",
    "prune_and_save_model(model, pruned_model_path, pruning_params, train_images, train_labels, batch_size, epochs, validation_split)\n",
    "\n",
    "# 모델 양자화 실행\n",
    "quantize_and_save_model(model, quantized_model_path, train_images, train_labels, batch_size, epochs, validation_split)\n",
    "\n",
    "# 모델 경로 리스트\n",
    "model_paths = [original_model_path, pruned_model_path, quantized_model_path]\n",
    "\n",
    "# 모델 성능 측정\n",
    "metrics = compute_metrics(model_paths, test_images, test_labels)\n",
    "\n",
    "# 모델 압축률 계산\n",
    "compression_rate_pruned = compute_compression_rate(original_model_path, pruned_model_path)\n",
    "compression_rate_quantized = compute_compression_rate(original_model_path, quantized_model_path)\n",
    "\n",
    "# 결과 출력\n",
    "for model_path, accuracy in metrics.items():\n",
    "    print(f\"Model at {model_path}: Test accuracy = {accuracy}\")\n",
    "    \n",
    "print(f\"Compression rate for pruned model: {compression_rate_pruned:.2f}\")\n",
    "print(f\"Compression rate for quantized model: {compression_rate_quantized:.2f}\")\n"
   ]
  },
  {
   "cell_type": "code",
   "execution_count": null,
   "metadata": {},
   "outputs": [],
   "source": []
  }
 ],
 "metadata": {
  "kernelspec": {
   "display_name": "Python 3",
   "language": "python",
   "name": "python3"
  },
  "language_info": {
   "codemirror_mode": {
    "name": "ipython",
    "version": 3
   },
   "file_extension": ".py",
   "mimetype": "text/x-python",
   "name": "python",
   "nbconvert_exporter": "python",
   "pygments_lexer": "ipython3",
   "version": "3.11.5"
  },
  "orig_nbformat": 4
 },
 "nbformat": 4,
 "nbformat_minor": 2
}
