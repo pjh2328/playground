{
 "cells": [
  {
   "cell_type": "code",
   "execution_count": 4,
   "metadata": {},
   "outputs": [],
   "source": [
    "# 라이브러리 및 모듈 설치\n",
    "import tempfile\n",
    "import os\n",
    "import tensorflow as tf\n",
    "import tensorflow_model_optimization as tfmot\n",
    "import numpy as np\n",
    "from tensorflow import keras\n",
    "from modul_test_1 import prune_and_train_model, quantize_and_train_model"
   ]
  },
  {
   "cell_type": "code",
   "execution_count": null,
   "metadata": {},
   "outputs": [],
   "source": []
  },
  {
   "cell_type": "markdown",
   "metadata": {},
   "source": []
  },
  {
   "cell_type": "code",
   "execution_count": 5,
   "metadata": {},
   "outputs": [],
   "source": [
    "#데이터 테스트 셋과 저장된 모델 불러오기\n",
    "mnist = keras.datasets.mnist\n",
    "(train_images, train_labels), (test_images, test_labels) = mnist.load_data()\n",
    "train_images = train_images / 255.0\n",
    "test_images = test_images / 255.0\n",
    "\n",
    "\n",
    "model = tf.keras.models.load_model(\"my_model_test.h5\")\n",
    "_, accuracy = model.evaluate(\n",
    "   test_images, test_labels, verbose=0)"
   ]
  },
  {
   "cell_type": "code",
   "execution_count": 6,
   "metadata": {},
   "outputs": [
    {
     "name": "stdout",
     "output_type": "stream",
     "text": [
      "Epoch 1/3\n",
      "375/375 [==============================] - 5s 9ms/step - loss: 0.0910 - accuracy: 0.9744 - val_loss: 0.0911 - val_accuracy: 0.9764\n",
      "Epoch 2/3\n",
      "375/375 [==============================] - 3s 9ms/step - loss: 0.1041 - accuracy: 0.9720 - val_loss: 0.1049 - val_accuracy: 0.9711\n",
      "Epoch 3/3\n",
      "375/375 [==============================] - 3s 9ms/step - loss: 0.0969 - accuracy: 0.9722 - val_loss: 0.0942 - val_accuracy: 0.9740\n",
      "Model: \"sequential\"\n",
      "_________________________________________________________________\n",
      " Layer (type)                Output Shape              Param #   \n",
      "=================================================================\n",
      " prune_low_magnitude_reshap  (None, 28, 28, 1)         1         \n",
      " e (PruneLowMagnitude)                                           \n",
      "                                                                 \n",
      " prune_low_magnitude_conv2d  (None, 26, 26, 12)        230       \n",
      "  (PruneLowMagnitude)                                            \n",
      "                                                                 \n",
      " prune_low_magnitude_max_po  (None, 13, 13, 12)        1         \n",
      " oling2d (PruneLowMagnitude                                      \n",
      " )                                                               \n",
      "                                                                 \n",
      " prune_low_magnitude_flatte  (None, 2028)              1         \n",
      " n (PruneLowMagnitude)                                           \n",
      "                                                                 \n",
      " prune_low_magnitude_dense   (None, 10)                40572     \n",
      " (PruneLowMagnitude)                                             \n",
      "                                                                 \n",
      "=================================================================\n",
      "Total params: 40805 (159.41 KB)\n",
      "Trainable params: 20410 (79.73 KB)\n",
      "Non-trainable params: 20395 (79.69 KB)\n",
      "_________________________________________________________________\n"
     ]
    }
   ],
   "source": [
    "model_for_pruning, model_for_pruning_accuracy = prune_and_train_model(\n",
    "    model, train_images, train_labels, test_images, test_labels,\n",
    "    128, 3, 0.2\n",
    ")"
   ]
  },
  {
   "cell_type": "code",
   "execution_count": 7,
   "metadata": {},
   "outputs": [
    {
     "name": "stdout",
     "output_type": "stream",
     "text": [
      "WARNING:tensorflow:Compiled the loaded model, but the compiled metrics have yet to be built. `model.compile_metrics` will be empty until you train or evaluate the model.\n"
     ]
    },
    {
     "name": "stderr",
     "output_type": "stream",
     "text": [
      "c:\\Users\\Jay\\AppData\\Local\\Programs\\Python\\Python311\\Lib\\site-packages\\keras\\src\\engine\\training.py:3103: UserWarning: You are saving your model as an HDF5 file via `model.save()`. This file format is considered legacy. We recommend using instead the native Keras format, e.g. `model.save('my_model.keras')`.\n",
      "  saving_api.save_model(\n"
     ]
    }
   ],
   "source": [
    "# 가중치 가지치기 기능 적용 모델 저장\n",
    "model_for_pruning.save(\"purned_model_test.h5\")"
   ]
  },
  {
   "cell_type": "code",
   "execution_count": 10,
   "metadata": {},
   "outputs": [
    {
     "name": "stdout",
     "output_type": "stream",
     "text": [
      "Epoch 1/3\n",
      "375/375 [==============================] - 5s 12ms/step - loss: 0.0866 - accuracy: 0.9751 - val_loss: 0.0875 - val_accuracy: 0.9743\n",
      "Epoch 2/3\n",
      "375/375 [==============================] - 4s 11ms/step - loss: 0.0754 - accuracy: 0.9777 - val_loss: 0.0828 - val_accuracy: 0.9761\n",
      "Epoch 3/3\n",
      "375/375 [==============================] - 4s 11ms/step - loss: 0.0692 - accuracy: 0.9796 - val_loss: 0.0804 - val_accuracy: 0.9764\n",
      "Model: \"sequential\"\n",
      "_________________________________________________________________\n",
      " Layer (type)                Output Shape              Param #   \n",
      "=================================================================\n",
      " quantize_layer_1 (Quantize  (None, 28, 28)            3         \n",
      " Layer)                                                          \n",
      "                                                                 \n",
      " quant_reshape (QuantizeWra  (None, 28, 28, 1)         1         \n",
      " pperV2)                                                         \n",
      "                                                                 \n",
      " quant_conv2d (QuantizeWrap  (None, 26, 26, 12)        147       \n",
      " perV2)                                                          \n",
      "                                                                 \n",
      " quant_max_pooling2d (Quant  (None, 13, 13, 12)        1         \n",
      " izeWrapperV2)                                                   \n",
      "                                                                 \n",
      " quant_flatten (QuantizeWra  (None, 2028)              1         \n",
      " pperV2)                                                         \n",
      "                                                                 \n",
      " quant_dense (QuantizeWrapp  (None, 10)                20295     \n",
      " erV2)                                                           \n",
      "                                                                 \n",
      "=================================================================\n",
      "Total params: 20448 (79.88 KB)\n",
      "Trainable params: 20410 (79.73 KB)\n",
      "Non-trainable params: 38 (152.00 Byte)\n",
      "_________________________________________________________________\n"
     ]
    }
   ],
   "source": [
    "q_aware_model, q_aware_model_accuracy = quantize_and_train_model(\n",
    "    model, train_images, train_labels, test_images, test_labels,\n",
    "    128, 3, 0.2\n",
    ")"
   ]
  },
  {
   "cell_type": "code",
   "execution_count": 11,
   "metadata": {},
   "outputs": [],
   "source": [
    "# 양자화 기능 적용 모델 저장\n",
    "q_aware_model.save(\"quantized_model_test.h5\")"
   ]
  },
  {
   "cell_type": "code",
   "execution_count": null,
   "metadata": {},
   "outputs": [],
   "source": []
  },
  {
   "cell_type": "code",
   "execution_count": null,
   "metadata": {},
   "outputs": [],
   "source": [
    "# 기능 매트릭 정리 \n",
    "# 파일 크기를 정수로 변환하여 출력\n",
    "keras_file_size = int(model_size(\"my_model_test.h5\"))\n",
    "pruned_keras_file_size = int(model_size(\"purned_model_test.h5\"))\n",
    "quant_file_size = int(model_size(\"quantized_model_test.h5\"))\n",
    "# 압축률 = (압축 전 데이터 크기) / (압축 후 데이터 크기)\n",
    "pruned_keras_compression_rate = ((keras_file_size / pruned_keras_file_size))\n",
    "quant_file_compression_rate = (keras_file_size / quant_file_size)\n",
    "pruned_keras_compression_rate = \"{:.2f}\".format(pruned_keras_compression_rate)\n",
    "quant_file_compression_rate = \"{:.2f}\".format(quant_file_compression_rate)\n",
    "# 원본 모델 비교\n",
    "PADP = (accuracy - (accuracy - model_for_pruning_accuracy)) / accuracy * 100\n",
    "if PADP >= 100:\n",
    "    PADP = 100\n",
    "P = \"{:.2f}\".format(PADP)\n",
    "PADQ = (accuracy - (accuracy - q_aware_model_accuracy)) / accuracy * 100\n",
    "if PADQ >= 100:\n",
    "    PADQ = 100\n",
    "Q = \"{:.2f}\".format(PADQ)"
   ]
  },
  {
   "cell_type": "code",
   "execution_count": null,
   "metadata": {},
   "outputs": [],
   "source": [
    "# 각 모델간(원본, 가중치 가지치기, 양자화) 성능비교 매트릭 출력\n",
    "print('모델 사이즈---------------------------------------------------')\n",
    "print(\"Size of gzipped baseline Keras model: %d bytes\" % keras_file_size)\n",
    "print(\"Size of gzipped pruned Keras model: %d bytes\" % pruned_keras_file_size)\n",
    "print(\"Size of gzipped Quantized model: %d bytes\" % quant_file_size)\n",
    "print('모델 압축률---------------------------------------------------')\n",
    "print(\"compression rate of pruned Keras model: \", pruned_keras_compression_rate)\n",
    "print(\"compression rate of Quantized model: \", quant_file_compression_rate)\n",
    "print('모델 최적화 성능----------------------------------------------')\n",
    "print('Baseline test accuracy:', accuracy)\n",
    "print('Pruned test accuracy:', model_for_pruning_accuracy)\n",
    "print('Quant test accuracy:', q_aware_model_accuracy)\n",
    "print('모델 최적화 비교 정확도----------------------------------------')\n",
    "print('가지치기 비교 정확도 :', P,\"%\")\n",
    "print('양자화 비교 정확도 :', Q,\"%\")"
   ]
  },
  {
   "cell_type": "code",
   "execution_count": null,
   "metadata": {},
   "outputs": [],
   "source": []
  },
  {
   "cell_type": "code",
   "execution_count": null,
   "metadata": {},
   "outputs": [],
   "source": []
  },
  {
   "cell_type": "code",
   "execution_count": null,
   "metadata": {},
   "outputs": [],
   "source": []
  },
  {
   "cell_type": "code",
   "execution_count": null,
   "metadata": {},
   "outputs": [],
   "source": []
  }
 ],
 "metadata": {
  "kernelspec": {
   "display_name": "Python 3",
   "language": "python",
   "name": "python3"
  },
  "language_info": {
   "codemirror_mode": {
    "name": "ipython",
    "version": 3
   },
   "file_extension": ".py",
   "mimetype": "text/x-python",
   "name": "python",
   "nbconvert_exporter": "python",
   "pygments_lexer": "ipython3",
   "version": "3.11.1"
  },
  "orig_nbformat": 4
 },
 "nbformat": 4,
 "nbformat_minor": 2
}
