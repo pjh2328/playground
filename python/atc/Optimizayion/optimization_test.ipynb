{
 "cells": [
  {
   "cell_type": "code",
   "execution_count": 1,
   "metadata": {},
   "outputs": [],
   "source": [
    "# 라이브러리 및 모듈 설치\n",
    "import tempfile\n",
    "import os\n",
    "import zipfile\n",
    "import tensorflow as tf\n",
    "import tensorflow_model_optimization as tfmot\n",
    "import numpy as np\n",
    "from tensorflow import keras"
   ]
  },
  {
   "cell_type": "code",
   "execution_count": 2,
   "metadata": {},
   "outputs": [],
   "source": [
    "# 모델 크기 계산 함수 \n",
    "def get_gzipped_model_size(file):\n",
    "  _, zipped_file = tempfile.mkstemp('.zip')\n",
    "  with zipfile.ZipFile(zipped_file, 'w', compression=zipfile.ZIP_DEFLATED) as f:\n",
    "    f.write(file)\n",
    "  return os.path.getsize(zipped_file)"
   ]
  },
  {
   "cell_type": "markdown",
   "metadata": {},
   "source": []
  },
  {
   "cell_type": "code",
   "execution_count": 3,
   "metadata": {},
   "outputs": [
    {
     "name": "stderr",
     "output_type": "stream",
     "text": [
      "WARNING:absl:At this time, the v2.11+ optimizer `tf.keras.optimizers.Adam` runs slowly on M1/M2 Macs, please use the legacy Keras optimizer instead, located at `tf.keras.optimizers.legacy.Adam`.\n",
      "WARNING:absl:There is a known slowdown when using v2.11+ Keras optimizers on M1/M2 Macs. Falling back to the legacy Keras optimizer, i.e., `tf.keras.optimizers.legacy.Adam`.\n"
     ]
    },
    {
     "name": "stdout",
     "output_type": "stream",
     "text": [
      "WARNING:tensorflow:Error in loading the saved optimizer state. As a result, your model is starting with a freshly initialized optimizer.\n"
     ]
    },
    {
     "name": "stderr",
     "output_type": "stream",
     "text": [
      "WARNING:tensorflow:Error in loading the saved optimizer state. As a result, your model is starting with a freshly initialized optimizer.\n"
     ]
    }
   ],
   "source": [
    "#데이터 테스트 셋과 저장된 모델 불러오기\n",
    "mnist = keras.datasets.mnist\n",
    "(train_images, train_labels), (test_images, test_labels) = mnist.load_data()\n",
    "train_images = train_images / 255.0\n",
    "test_images = test_images / 255.0\n",
    "model = tf.keras.models.load_model(\"my_model.h5\")\n",
    "_, accuracy = model.evaluate(\n",
    "   test_images, test_labels, verbose=0)"
   ]
  },
  {
   "cell_type": "code",
   "execution_count": 4,
   "metadata": {},
   "outputs": [
    {
     "name": "stdout",
     "output_type": "stream",
     "text": [
      "Epoch 1/4\n",
      "422/422 [==============================] - 3s 4ms/step - loss: 0.0829 - accuracy: 0.9767 - val_loss: 0.0932 - val_accuracy: 0.9738\n",
      "Epoch 2/4\n",
      "422/422 [==============================] - 2s 5ms/step - loss: 0.0911 - accuracy: 0.9743 - val_loss: 0.0856 - val_accuracy: 0.9805\n",
      "Epoch 3/4\n",
      "422/422 [==============================] - 2s 5ms/step - loss: 0.0924 - accuracy: 0.9746 - val_loss: 0.0864 - val_accuracy: 0.9778\n",
      "Epoch 4/4\n",
      "422/422 [==============================] - 2s 5ms/step - loss: 0.0853 - accuracy: 0.9766 - val_loss: 0.0824 - val_accuracy: 0.9777\n",
      "Model: \"sequential\"\n",
      "_________________________________________________________________\n",
      " Layer (type)                Output Shape              Param #   \n",
      "=================================================================\n",
      " prune_low_magnitude_reshap  (None, 28, 28, 1)         1         \n",
      " e (PruneLowMagnitude)                                           \n",
      "                                                                 \n",
      " prune_low_magnitude_conv2d  (None, 26, 26, 12)        230       \n",
      "  (PruneLowMagnitude)                                            \n",
      "                                                                 \n",
      " prune_low_magnitude_max_po  (None, 13, 13, 12)        1         \n",
      " oling2d (PruneLowMagnitude                                      \n",
      " )                                                               \n",
      "                                                                 \n",
      " prune_low_magnitude_flatte  (None, 2028)              1         \n",
      " n (PruneLowMagnitude)                                           \n",
      "                                                                 \n",
      " prune_low_magnitude_dense   (None, 10)                40572     \n",
      " (PruneLowMagnitude)                                             \n",
      "                                                                 \n",
      "=================================================================\n",
      "Total params: 40805 (159.41 KB)\n",
      "Trainable params: 20410 (79.73 KB)\n",
      "Non-trainable params: 20395 (79.69 KB)\n",
      "_________________________________________________________________\n"
     ]
    }
   ],
   "source": [
    "# 모델 가충치 가지치기 기능 실행\n",
    "prune_low_magnitude = tfmot.sparsity.keras.prune_low_magnitude\n",
    "batch_size = 128\n",
    "epochs = 4\n",
    "validation_split = 0.1\n",
    "num_images = train_images.shape[0] * (1 - validation_split)\n",
    "end_step = np.ceil(num_images / batch_size).astype(np.int32) * epochs\n",
    "pruning_params = {\n",
    "      'pruning_schedule': tfmot.sparsity.keras.PolynomialDecay(initial_sparsity=0.50,\n",
    "                                                               final_sparsity=0.80,\n",
    "                                                               begin_step=0,\n",
    "                                                               end_step=end_step)\n",
    "}\n",
    "model_for_pruning = prune_low_magnitude(model, **pruning_params)\n",
    "model_for_pruning.compile(optimizer='adam',\n",
    "              loss=tf.keras.losses.SparseCategoricalCrossentropy(from_logits=True),\n",
    "              metrics=['accuracy'])\n",
    "logdir = tempfile.mkdtemp()\n",
    "callbacks = [\n",
    "  tfmot.sparsity.keras.UpdatePruningStep(),\n",
    "  tfmot.sparsity.keras.PruningSummaries(log_dir=logdir),\n",
    "]\n",
    "model_for_pruning.fit(train_images, train_labels,\n",
    "                  batch_size=batch_size, epochs=epochs, validation_split=validation_split,\n",
    "                  callbacks=callbacks)\n",
    "_, model_for_pruning_accuracy = model_for_pruning.evaluate(\n",
    "   test_images, test_labels, verbose=0)\n",
    "model_for_export = tfmot.sparsity.keras.strip_pruning(model_for_pruning)\n",
    "model_for_pruning.summary()"
   ]
  },
  {
   "cell_type": "code",
   "execution_count": 5,
   "metadata": {},
   "outputs": [
    {
     "name": "stderr",
     "output_type": "stream",
     "text": [
      "/opt/homebrew/lib/python3.11/site-packages/keras/src/engine/training.py:3000: UserWarning: You are saving your model as an HDF5 file via `model.save()`. This file format is considered legacy. We recommend using instead the native Keras format, e.g. `model.save('my_model.keras')`.\n",
      "  saving_api.save_model(\n"
     ]
    }
   ],
   "source": [
    "\n",
    "# 가중치 가지치기 기능 적용 모델 저장\n",
    "model_for_pruning.save(\"purned_model.h5\")"
   ]
  },
  {
   "cell_type": "code",
   "execution_count": 6,
   "metadata": {},
   "outputs": [
    {
     "name": "stdout",
     "output_type": "stream",
     "text": [
      "Epoch 1/4\n",
      "108/108 [==============================] - 2s 16ms/step - loss: 0.0806 - accuracy: 0.9770 - val_loss: 0.0746 - val_accuracy: 0.9793\n",
      "Epoch 2/4\n",
      "108/108 [==============================] - 2s 14ms/step - loss: 0.0726 - accuracy: 0.9793 - val_loss: 0.0718 - val_accuracy: 0.9808\n",
      "Epoch 3/4\n",
      "108/108 [==============================] - 2s 15ms/step - loss: 0.0685 - accuracy: 0.9805 - val_loss: 0.0711 - val_accuracy: 0.9800\n",
      "Epoch 4/4\n",
      "108/108 [==============================] - 2s 15ms/step - loss: 0.0655 - accuracy: 0.9814 - val_loss: 0.0706 - val_accuracy: 0.9810\n",
      "Model: \"sequential\"\n",
      "_________________________________________________________________\n",
      " Layer (type)                Output Shape              Param #   \n",
      "=================================================================\n",
      " quantize_layer (QuantizeLa  (None, 28, 28)            3         \n",
      " yer)                                                            \n",
      "                                                                 \n",
      " quant_reshape (QuantizeWra  (None, 28, 28, 1)         1         \n",
      " pperV2)                                                         \n",
      "                                                                 \n",
      " quant_conv2d (QuantizeWrap  (None, 26, 26, 12)        147       \n",
      " perV2)                                                          \n",
      "                                                                 \n",
      " quant_max_pooling2d (Quant  (None, 13, 13, 12)        1         \n",
      " izeWrapperV2)                                                   \n",
      "                                                                 \n",
      " quant_flatten (QuantizeWra  (None, 2028)              1         \n",
      " pperV2)                                                         \n",
      "                                                                 \n",
      " quant_dense (QuantizeWrapp  (None, 10)                20295     \n",
      " erV2)                                                           \n",
      "                                                                 \n",
      "=================================================================\n",
      "Total params: 20448 (79.88 KB)\n",
      "Trainable params: 20410 (79.73 KB)\n",
      "Non-trainable params: 38 (152.00 Byte)\n",
      "_________________________________________________________________\n"
     ]
    }
   ],
   "source": [
    "# 모델 양자화 기능 실행\n",
    "quantize_model = tfmot.quantization.keras.quantize_model\n",
    "q_aware_model = quantize_model(model)\n",
    "q_aware_model.compile(optimizer='adam',\n",
    "              loss=tf.keras.losses.SparseCategoricalCrossentropy(from_logits=True),\n",
    "              metrics=['accuracy'])\n",
    "q_aware_model.fit(train_images, train_labels,\n",
    "                  batch_size=500, epochs=4, validation_split=0.1)\n",
    "_, q_aware_model_accuracy = q_aware_model.evaluate(\n",
    "   test_images, test_labels, verbose=0)\n",
    "q_aware_model.summary()"
   ]
  },
  {
   "cell_type": "code",
   "execution_count": 7,
   "metadata": {},
   "outputs": [],
   "source": [
    "# 양자화 기능 적용 모델 저장\n",
    "q_aware_model.save(\"quantized_model.h5\")"
   ]
  },
  {
   "cell_type": "code",
   "execution_count": 8,
   "metadata": {},
   "outputs": [],
   "source": [
    "# 기능 매트릭 정리 \n",
    "# 파일 크기를 정수로 변환하여 출력\n",
    "keras_file_size = int(get_gzipped_model_size(\"my_model.h5\"))\n",
    "pruned_keras_file_size = int(get_gzipped_model_size(\"purned_model.h5\"))\n",
    "quant_file_size = int(get_gzipped_model_size(\"quantized_model.h5\"))\n",
    "# 압축률 = (압축 전 데이터 크기) / (압축 후 데이터 크기)\n",
    "pruned_keras_compression_rate = ((keras_file_size / pruned_keras_file_size))\n",
    "quant_file_compression_rate = (keras_file_size / quant_file_size)\n",
    "pruned_keras_compression_rate = \"{:.2f}\".format(pruned_keras_compression_rate)\n",
    "quant_file_compression_rate = \"{:.2f}\".format(quant_file_compression_rate)\n",
    "# 원본 모델 비교\n",
    "PADP = (accuracy - (accuracy - model_for_pruning_accuracy)) / accuracy * 100\n",
    "if PADP >= 100:\n",
    "    PADP = 100\n",
    "P = \"{:.2f}\".format(PADP)\n",
    "PADQ = (accuracy - (accuracy - q_aware_model_accuracy)) / accuracy * 100\n",
    "if PADQ >= 100:\n",
    "    PADQ = 100\n",
    "Q = \"{:.2f}\".format(PADQ)"
   ]
  },
  {
   "cell_type": "code",
   "execution_count": 9,
   "metadata": {},
   "outputs": [
    {
     "name": "stdout",
     "output_type": "stream",
     "text": [
      "모델 사이즈---------------------------------------------------\n",
      "Size of gzipped baseline Keras model: 234385 bytes\n",
      "Size of gzipped pruned Keras model: 186142 bytes\n",
      "Size of gzipped Quantized model: 116337 bytes\n",
      "모델 압축률---------------------------------------------------\n",
      "compression rate of pruned Keras model:  1.26\n",
      "compression rate of Quantized model:  2.01\n",
      "모델 최적화 성능----------------------------------------------\n",
      "Baseline test accuracy: 0.9771000146865845\n",
      "Pruned test accuracy: 0.9753999710083008\n",
      "Quant test accuracy: 0.9771999716758728\n",
      "모델 최적화 비교 정확도----------------------------------------\n",
      "가지치기 비교 정확도 : 99.83 %\n",
      "양자화 비교 정확도 : 100.00 %\n"
     ]
    }
   ],
   "source": [
    "# 각 모델간(원본, 가중치 가지치기, 양자화) 성능비교 매트릭 출력\n",
    "print('모델 사이즈---------------------------------------------------')\n",
    "print(\"Size of gzipped baseline Keras model: %d bytes\" % keras_file_size)\n",
    "print(\"Size of gzipped pruned Keras model: %d bytes\" % pruned_keras_file_size)\n",
    "print(\"Size of gzipped Quantized model: %d bytes\" % quant_file_size)\n",
    "print('모델 압축률---------------------------------------------------')\n",
    "print(\"compression rate of pruned Keras model: \", pruned_keras_compression_rate)\n",
    "print(\"compression rate of Quantized model: \", quant_file_compression_rate)\n",
    "print('모델 최적화 성능----------------------------------------------')\n",
    "print('Baseline test accuracy:', accuracy)\n",
    "print('Pruned test accuracy:', model_for_pruning_accuracy)\n",
    "print('Quant test accuracy:', q_aware_model_accuracy)\n",
    "print('모델 최적화 비교 정확도----------------------------------------')\n",
    "print('가지치기 비교 정확도 :', P,\"%\")\n",
    "print('양자화 비교 정확도 :', Q,\"%\")"
   ]
  },
  {
   "cell_type": "code",
   "execution_count": null,
   "metadata": {},
   "outputs": [],
   "source": []
  },
  {
   "cell_type": "code",
   "execution_count": null,
   "metadata": {},
   "outputs": [],
   "source": []
  },
  {
   "cell_type": "code",
   "execution_count": null,
   "metadata": {},
   "outputs": [],
   "source": []
  },
  {
   "cell_type": "code",
   "execution_count": null,
   "metadata": {},
   "outputs": [],
   "source": []
  }
 ],
 "metadata": {
  "kernelspec": {
   "display_name": "Python 3",
   "language": "python",
   "name": "python3"
  },
  "language_info": {
   "codemirror_mode": {
    "name": "ipython",
    "version": 3
   },
   "file_extension": ".py",
   "mimetype": "text/x-python",
   "name": "python",
   "nbconvert_exporter": "python",
   "pygments_lexer": "ipython3",
   "version": "3.11.5"
  },
  "orig_nbformat": 4
 },
 "nbformat": 4,
 "nbformat_minor": 2
}
