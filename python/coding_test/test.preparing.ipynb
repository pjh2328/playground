{
 "cells": [
  {
   "cell_type": "markdown",
   "metadata": {},
   "source": [
    "# 괄호 문제(백준#9012)"
   ]
  },
  {
   "cell_type": "code",
   "execution_count": 6,
   "metadata": {},
   "outputs": [
    {
     "ename": "ValueError",
     "evalue": "invalid literal for int() with base 10: ''",
     "output_type": "error",
     "traceback": [
      "\u001b[0;31m---------------------------------------------------------------------------\u001b[0m",
      "\u001b[0;31mValueError\u001b[0m                                Traceback (most recent call last)",
      "\u001b[1;32m/Users/jaehyeongpark/jae/playground/python/coding_test/test.preparing.ipynb Cell 1\u001b[0m line \u001b[0;36m1\n\u001b[0;32m----> <a href='vscode-notebook-cell:/Users/jaehyeongpark/jae/playground/python/coding_test/test.preparing.ipynb#W0sZmlsZQ%3D%3D?line=0'>1</a>\u001b[0m T \u001b[39m=\u001b[39m \u001b[39mint\u001b[39;49m(\u001b[39minput\u001b[39;49m())\n\u001b[1;32m      <a href='vscode-notebook-cell:/Users/jaehyeongpark/jae/playground/python/coding_test/test.preparing.ipynb#W0sZmlsZQ%3D%3D?line=2'>3</a>\u001b[0m \u001b[39mfor\u001b[39;00m i \u001b[39min\u001b[39;00m \u001b[39mrange\u001b[39m(T):\n\u001b[1;32m      <a href='vscode-notebook-cell:/Users/jaehyeongpark/jae/playground/python/coding_test/test.preparing.ipynb#W0sZmlsZQ%3D%3D?line=3'>4</a>\u001b[0m     stk \u001b[39m=\u001b[39m []\n",
      "\u001b[0;31mValueError\u001b[0m: invalid literal for int() with base 10: ''"
     ]
    }
   ],
   "source": [
    "T = int(input())\n",
    "\n",
    "for i in range(T):\n",
    "    stk = []\n",
    "    isVPS = True\n",
    "    for ch in input():\n",
    "        if ch == '(':\n",
    "            stk.append(ch)\n",
    "        else:\n",
    "            if stk:\n",
    "                stk.pop()\n",
    "            else:\n",
    "                isVPS = False\n",
    "                break\n",
    "    if stk:\n",
    "        isVPS = False\n",
    "    print(\"yes\" if isVPS else 'no')\n",
    "    \n",
    "#괄호 문제"
   ]
  },
  {
   "cell_type": "markdown",
   "metadata": {},
   "source": [
    "# 카드2 (백준#2164)"
   ]
  },
  {
   "cell_type": "code",
   "execution_count": 14,
   "metadata": {},
   "outputs": [
    {
     "name": "stdout",
     "output_type": "stream",
     "text": [
      "deque([475712])\n"
     ]
    }
   ],
   "source": [
    "#큐를 사용한 배열문제 해결\n",
    "from collections import deque\n",
    "\n",
    "\n",
    "N = int(input())\n",
    "dq = deque(range(1, N + 1))\n",
    "\n",
    "while len(dq) > 1:\n",
    "    dq.popleft()\n",
    "    dq.append(dq.popleft())\n",
    "    \n",
    "    \n",
    "print(dq)"
   ]
  },
  {
   "cell_type": "code",
   "execution_count": 20,
   "metadata": {},
   "outputs": [
    {
     "name": "stdout",
     "output_type": "stream",
     "text": [
      "[3, 4, 5, 6, 7, 8, 9, 10, 2]\n",
      "[5, 6, 7, 8, 9, 10, 2, 4]\n",
      "[7, 8, 9, 10, 2, 4, 6]\n",
      "[9, 10, 2, 4, 6, 8]\n",
      "[2, 4, 6, 8, 10]\n",
      "[6, 8, 10, 4]\n",
      "[10, 4, 8]\n",
      "[8, 4]\n",
      "[4]\n",
      "[4]\n"
     ]
    }
   ],
   "source": [
    "#배열을 이용한 문제 풀이\n",
    "\n",
    "arr = []\n",
    "\n",
    "N = int(input())\n",
    "for i in range(1, N+1):\n",
    "    arr.append(i)\n",
    "\n",
    "while len(arr) > 1:\n",
    "    arr.pop(0)\n",
    "    arr.append(arr.pop(0))\n",
    "    print(arr)\n",
    "\n",
    "print(arr)\n"
   ]
  },
  {
   "cell_type": "markdown",
   "metadata": {},
   "source": [
    "# 절대값 힙(백준#11286)"
   ]
  },
  {
   "cell_type": "code",
   "execution_count": null,
   "metadata": {},
   "outputs": [],
   "source": []
  },
  {
   "cell_type": "code",
   "execution_count": null,
   "metadata": {},
   "outputs": [],
   "source": []
  }
 ],
 "metadata": {
  "kernelspec": {
   "display_name": "Python 3",
   "language": "python",
   "name": "python3"
  },
  "language_info": {
   "codemirror_mode": {
    "name": "ipython",
    "version": 3
   },
   "file_extension": ".py",
   "mimetype": "text/x-python",
   "name": "python",
   "nbconvert_exporter": "python",
   "pygments_lexer": "ipython3",
   "version": "3.11.5"
  },
  "orig_nbformat": 4
 },
 "nbformat": 4,
 "nbformat_minor": 2
}
