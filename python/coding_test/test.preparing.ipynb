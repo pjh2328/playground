{
 "cells": [
  {
   "cell_type": "markdown",
   "metadata": {},
   "source": [
    "### 배열 Array\n",
    "\n",
    "- 삽입/삭제 :0(N)\n",
    "- 탐색 : 0(1)\n",
    "- 파이썬은 리스트를 사용\n",
    "\n",
    "arr = [3,1,5,105,6,7,9,]\n",
    "arr[2] = 11는 5에 위치로 이동\n",
    "\n"
   ]
  },
  {
   "cell_type": "code",
   "execution_count": 1,
   "metadata": {},
   "outputs": [
    {
     "name": "stdout",
     "output_type": "stream",
     "text": [
      "[10, 11, 5, 13]\n"
     ]
    }
   ],
   "source": [
    "arr = [10,11,12,13]\n",
    "arr[2] = 5\n",
    "\n",
    "print(arr)"
   ]
  },
  {
   "cell_type": "markdown",
   "metadata": {},
   "source": [
    "벡터\n",
    "- 삽입/삭제: 0(N)\n",
    "- 탐색: 0(1)\n",
    "- 동적 배열(사이즈 변경가능)"
   ]
  },
  {
   "cell_type": "code",
   "execution_count": 2,
   "metadata": {},
   "outputs": [
    {
     "name": "stdout",
     "output_type": "stream",
     "text": [
      "size: 2\n",
      "(123, 456)\n",
      "(789, 987)\n"
     ]
    }
   ],
   "source": [
    "v = []\n",
    "v.append((123,456))\n",
    "v.append((789,987))\n",
    "print(\"size:\", len(v))\n",
    "for p in v:\n",
    "    print(p)\n"
   ]
  },
  {
   "cell_type": "markdown",
   "metadata": {},
   "source": [
    "# 연결리스트\n",
    "- 삽입/삭제: 0(1)\n",
    "- 탐색: 0(N)\n",
    "- ps에서는 별로 안쓰이지만 다른 자료구조들을 구현할 떄 많이 쓰인다."
   ]
  },
  {
   "cell_type": "markdown",
   "metadata": {},
   "source": [
    "# 스택\n",
    "자료를 쌓는 구조\n"
   ]
  },
  {
   "cell_type": "code",
   "execution_count": 4,
   "metadata": {},
   "outputs": [
    {
     "name": "stdout",
     "output_type": "stream",
     "text": [
      "size: 3\n",
      "789\n",
      "456\n",
      "123\n"
     ]
    }
   ],
   "source": [
    "s = []\n",
    "s.append(123)\n",
    "s.append(456)\n",
    "s.append(789)\n",
    "print(\"size:\", len(s))\n",
    "while len(s) > 0:\n",
    "    print(s[-1])\n",
    "    s.pop(-1)"
   ]
  },
  {
   "cell_type": "markdown",
   "metadata": {},
   "source": [
    "# 큐"
   ]
  },
  {
   "cell_type": "code",
   "execution_count": 2,
   "metadata": {},
   "outputs": [
    {
     "name": "stdout",
     "output_type": "stream",
     "text": [
      "size: 3\n",
      "123\n",
      "456\n",
      "789\n"
     ]
    }
   ],
   "source": [
    "from collections import deque\n",
    "\n",
    "q = deque()\n",
    "q.append(123)\n",
    "q.append(456)\n",
    "q.append(789)\n",
    "print(\"size:\", len(q))\n",
    "while len(q) > 0:\n",
    "    print(q.popleft())\n",
    "# pop 뒤에서 제거\n",
    "# popleft 앞에서 제거"
   ]
  },
  {
   "cell_type": "code",
   "execution_count": null,
   "metadata": {},
   "outputs": [],
   "source": []
  }
 ],
 "metadata": {
  "kernelspec": {
   "display_name": "Python 3",
   "language": "python",
   "name": "python3"
  },
  "language_info": {
   "codemirror_mode": {
    "name": "ipython",
    "version": 3
   },
   "file_extension": ".py",
   "mimetype": "text/x-python",
   "name": "python",
   "nbconvert_exporter": "python",
   "pygments_lexer": "ipython3",
   "version": "3.11.4"
  },
  "orig_nbformat": 4
 },
 "nbformat": 4,
 "nbformat_minor": 2
}
