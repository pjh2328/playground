{
 "cells": [
  {
   "cell_type": "code",
   "execution_count": 1,
   "metadata": {},
   "outputs": [
    {
     "ename": "ModuleNotFoundError",
     "evalue": "No module named 'skmultiflow'",
     "output_type": "error",
     "traceback": [
      "\u001b[0;31m---------------------------------------------------------------------------\u001b[0m",
      "\u001b[0;31mModuleNotFoundError\u001b[0m                       Traceback (most recent call last)",
      "\u001b[1;32m/Users/jaehyeongpark/jae/playground/python/code test/i.ipynb Cell 1\u001b[0m line \u001b[0;36m1\n\u001b[0;32m----> <a href='vscode-notebook-cell:/Users/jaehyeongpark/jae/playground/python/code%20test/i.ipynb#W0sZmlsZQ%3D%3D?line=0'>1</a>\u001b[0m \u001b[39mfrom\u001b[39;00m \u001b[39mskmultiflow\u001b[39;00m\u001b[39m.\u001b[39;00m\u001b[39mdata\u001b[39;00m \u001b[39mimport\u001b[39;00m RandomRBFGeneratorDrift\n\u001b[1;32m      <a href='vscode-notebook-cell:/Users/jaehyeongpark/jae/playground/python/code%20test/i.ipynb#W0sZmlsZQ%3D%3D?line=1'>2</a>\u001b[0m \u001b[39mfrom\u001b[39;00m \u001b[39mskmultiflow\u001b[39;00m\u001b[39m.\u001b[39;00m\u001b[39mtrees\u001b[39;00m \u001b[39mimport\u001b[39;00m HoeffdingTreeClassifier\n\u001b[1;32m      <a href='vscode-notebook-cell:/Users/jaehyeongpark/jae/playground/python/code%20test/i.ipynb#W0sZmlsZQ%3D%3D?line=2'>3</a>\u001b[0m \u001b[39mfrom\u001b[39;00m \u001b[39mskmultiflow\u001b[39;00m\u001b[39m.\u001b[39;00m\u001b[39mevaluation\u001b[39;00m \u001b[39mimport\u001b[39;00m EvaluatePrequential\n",
      "\u001b[0;31mModuleNotFoundError\u001b[0m: No module named 'skmultiflow'"
     ]
    }
   ],
   "source": [
    "from skmultiflow.data import RandomRBFGeneratorDrift\n",
    "from skmultiflow.trees import HoeffdingTreeClassifier\n",
    "from skmultiflow.evaluation import EvaluatePrequential\n",
    "\n",
    "# Create a simulated financial data stream (you would replace this with a real data source)\n",
    "stream = RandomRBFGeneratorDrift(random_state=42, noise_percentage=0.1, has_noise=True)\n",
    "\n",
    "# Create a Hoeffding Tree classifier (you can use other classifiers as needed)\n",
    "classifier = HoeffdingTreeClassifier()\n",
    "\n",
    "# Create an evaluator to perform prequential evaluation\n",
    "evaluator = EvaluatePrequential(show_plot=True, pretrain_size=1000, max_samples=10000)\n",
    "\n",
    "# Run the evaluation on the streaming data\n",
    "evaluator.evaluate(stream=stream, model=classifier)"
   ]
  },
  {
   "cell_type": "code",
   "execution_count": null,
   "metadata": {},
   "outputs": [],
   "source": []
  }
 ],
 "metadata": {
  "kernelspec": {
   "display_name": "Python 3",
   "language": "python",
   "name": "python3"
  },
  "language_info": {
   "codemirror_mode": {
    "name": "ipython",
    "version": 3
   },
   "file_extension": ".py",
   "mimetype": "text/x-python",
   "name": "python",
   "nbconvert_exporter": "python",
   "pygments_lexer": "ipython3",
   "version": "3.11.5"
  },
  "orig_nbformat": 4
 },
 "nbformat": 4,
 "nbformat_minor": 2
}
